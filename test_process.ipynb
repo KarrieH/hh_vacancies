{
 "cells": [
  {
   "cell_type": "code",
   "execution_count": 83,
   "metadata": {},
   "outputs": [],
   "source": [
    "import pandas as pd\n",
    "import numpy as np"
   ]
  },
  {
   "cell_type": "code",
   "execution_count": 84,
   "metadata": {},
   "outputs": [],
   "source": [
    "df_0 = pd.read_csv(\"data_0.csv\")\n",
    "df_1 = pd.read_csv(\"data_1.csv\")\n",
    "df_2 = pd.read_csv(\"data_2.csv\")\n",
    "df_3 = pd.read_csv(\"data_3.csv\")\n",
    "df_4 = pd.read_csv(\"data_4.csv\")\n",
    "df_5 = pd.read_csv(\"data_5.csv\")\n",
    "df_6 = pd.read_csv(\"data_6.csv\")\n",
    "df_7 = pd.read_csv(\"data_7.csv\")\n",
    "df_8 = pd.read_csv(\"data_8.csv\")"
   ]
  },
  {
   "cell_type": "code",
   "execution_count": 85,
   "metadata": {},
   "outputs": [],
   "source": [
    "data = pd.DataFrame()"
   ]
  },
  {
   "cell_type": "code",
   "execution_count": 86,
   "metadata": {},
   "outputs": [],
   "source": [
    "dfs = [df_0,df_1,df_2,df_3,df_4,df_5,df_6,df_7,df_8]\n",
    "for df in dfs:\n",
    "    data = data.append(df)"
   ]
  },
  {
   "cell_type": "code",
   "execution_count": 87,
   "metadata": {},
   "outputs": [],
   "source": [
    "data = data.dropna(thresh=4)"
   ]
  },
  {
   "cell_type": "code",
   "execution_count": 88,
   "metadata": {},
   "outputs": [],
   "source": [
    "data = data.drop_duplicates()"
   ]
  },
  {
   "cell_type": "code",
   "execution_count": 89,
   "metadata": {},
   "outputs": [],
   "source": [
    "data.reset_index(inplace=True,drop=True)"
   ]
  },
  {
   "cell_type": "code",
   "execution_count": 91,
   "metadata": {},
   "outputs": [
    {
     "data": {
      "text/plain": [
       "(149, 9)"
      ]
     },
     "execution_count": 91,
     "metadata": {},
     "output_type": "execute_result"
    }
   ],
   "source": [
    "data.shape"
   ]
  },
  {
   "cell_type": "code",
   "execution_count": 90,
   "metadata": {},
   "outputs": [
    {
     "data": {
      "text/html": [
       "<div>\n",
       "<style scoped>\n",
       "    .dataframe tbody tr th:only-of-type {\n",
       "        vertical-align: middle;\n",
       "    }\n",
       "\n",
       "    .dataframe tbody tr th {\n",
       "        vertical-align: top;\n",
       "    }\n",
       "\n",
       "    .dataframe thead th {\n",
       "        text-align: right;\n",
       "    }\n",
       "</style>\n",
       "<table border=\"1\" class=\"dataframe\">\n",
       "  <thead>\n",
       "    <tr style=\"text-align: right;\">\n",
       "      <th></th>\n",
       "      <th>id</th>\n",
       "      <th>name</th>\n",
       "      <th>skills</th>\n",
       "      <th>desc</th>\n",
       "      <th>exp</th>\n",
       "      <th>spec</th>\n",
       "      <th>area</th>\n",
       "      <th>resp</th>\n",
       "      <th>req</th>\n",
       "    </tr>\n",
       "  </thead>\n",
       "  <tbody>\n",
       "    <tr>\n",
       "      <th>0</th>\n",
       "      <td>46543564.0</td>\n",
       "      <td>Machine Learning Developer</td>\n",
       "      <td>Python,Анализ данных,Computer Vision,C++,Machi...</td>\n",
       "      <td>Обязанности:  Разработка алгоритмов ML для ана...</td>\n",
       "      <td>NaN</td>\n",
       "      <td>Программирование, Разработка</td>\n",
       "      <td>Санкт-Петербург</td>\n",
       "      <td>Разработка алгоритмов ML для анализа больших д...</td>\n",
       "      <td>Профильное образование. Опыт ML разработки не ...</td>\n",
       "    </tr>\n",
       "    <tr>\n",
       "      <th>1</th>\n",
       "      <td>46607069.0</td>\n",
       "      <td>Intern Machine learning</td>\n",
       "      <td>Python,Tensorflow,PyTorch,Английский язык,Mach...</td>\n",
       "      <td>COMPANY DESCRIPTIONSAP started in 1972 as a te...</td>\n",
       "      <td>NaN</td>\n",
       "      <td>Информатика, Информационные системы,Информацио...</td>\n",
       "      <td>Санкт-Петербург</td>\n",
       "      <td>Deploy your model into production using KFServ...</td>\n",
       "      <td>Analyze large datasets, use machine learning l...</td>\n",
       "    </tr>\n",
       "    <tr>\n",
       "      <th>2</th>\n",
       "      <td>46108037.0</td>\n",
       "      <td>Machine Learning Engineer (Python)</td>\n",
       "      <td>Английский язык,Docker,Spark,Kafka,Kubernetes,...</td>\n",
       "      <td>StarNavi is looking for a Software Infrastruct...</td>\n",
       "      <td>NaN</td>\n",
       "      <td>Программирование, Разработка,Компьютерная безо...</td>\n",
       "      <td>Санкт-Петербург</td>\n",
       "      <td>Help design and implement functional requireme...</td>\n",
       "      <td>Understanding of micro-services architectures....</td>\n",
       "    </tr>\n",
       "    <tr>\n",
       "      <th>3</th>\n",
       "      <td>44007750.0</td>\n",
       "      <td>Data scientist/Machine learning engineer в ком...</td>\n",
       "      <td>Python,C++,ML,Deep Learning,PyTorch,Machine Le...</td>\n",
       "      <td>Наша команда развивает передовые технологии ма...</td>\n",
       "      <td>NaN</td>\n",
       "      <td>Программирование, Разработка</td>\n",
       "      <td>Санкт-Петербург</td>\n",
       "      <td>Обучать и внедрять современные SoTA-модели на ...</td>\n",
       "      <td>Понимаете концепции Deep Learning и можете сво...</td>\n",
       "    </tr>\n",
       "    <tr>\n",
       "      <th>4</th>\n",
       "      <td>42449951.0</td>\n",
       "      <td>Data scientist/Machine learning engineer в Ком...</td>\n",
       "      <td>Python,Spark,Big Data,PHP</td>\n",
       "      <td>Сейчас мы ищем middle- или senior-разработчика...</td>\n",
       "      <td>NaN</td>\n",
       "      <td>Программирование, Разработка,Инженер,Аналитик</td>\n",
       "      <td>Санкт-Петербург</td>\n",
       "      <td>Как эффективно собирать, хранить и обрабатыват...</td>\n",
       "      <td>Высокий уровень навыков в программировании. От...</td>\n",
       "    </tr>\n",
       "  </tbody>\n",
       "</table>\n",
       "</div>"
      ],
      "text/plain": [
       "           id                                               name  \\\n",
       "0  46543564.0                         Machine Learning Developer   \n",
       "1  46607069.0                            Intern Machine learning   \n",
       "2  46108037.0                 Machine Learning Engineer (Python)   \n",
       "3  44007750.0  Data scientist/Machine learning engineer в ком...   \n",
       "4  42449951.0  Data scientist/Machine learning engineer в Ком...   \n",
       "\n",
       "                                              skills  \\\n",
       "0  Python,Анализ данных,Computer Vision,C++,Machi...   \n",
       "1  Python,Tensorflow,PyTorch,Английский язык,Mach...   \n",
       "2  Английский язык,Docker,Spark,Kafka,Kubernetes,...   \n",
       "3  Python,C++,ML,Deep Learning,PyTorch,Machine Le...   \n",
       "4                          Python,Spark,Big Data,PHP   \n",
       "\n",
       "                                                desc  exp  \\\n",
       "0  Обязанности:  Разработка алгоритмов ML для ана...  NaN   \n",
       "1  COMPANY DESCRIPTIONSAP started in 1972 as a te...  NaN   \n",
       "2  StarNavi is looking for a Software Infrastruct...  NaN   \n",
       "3  Наша команда развивает передовые технологии ма...  NaN   \n",
       "4  Сейчас мы ищем middle- или senior-разработчика...  NaN   \n",
       "\n",
       "                                                spec             area  \\\n",
       "0                       Программирование, Разработка  Санкт-Петербург   \n",
       "1  Информатика, Информационные системы,Информацио...  Санкт-Петербург   \n",
       "2  Программирование, Разработка,Компьютерная безо...  Санкт-Петербург   \n",
       "3                       Программирование, Разработка  Санкт-Петербург   \n",
       "4      Программирование, Разработка,Инженер,Аналитик  Санкт-Петербург   \n",
       "\n",
       "                                                resp  \\\n",
       "0  Разработка алгоритмов ML для анализа больших д...   \n",
       "1  Deploy your model into production using KFServ...   \n",
       "2  Help design and implement functional requireme...   \n",
       "3  Обучать и внедрять современные SoTA-модели на ...   \n",
       "4  Как эффективно собирать, хранить и обрабатыват...   \n",
       "\n",
       "                                                 req  \n",
       "0  Профильное образование. Опыт ML разработки не ...  \n",
       "1  Analyze large datasets, use machine learning l...  \n",
       "2  Understanding of micro-services architectures....  \n",
       "3  Понимаете концепции Deep Learning и можете сво...  \n",
       "4  Высокий уровень навыков в программировании. От...  "
      ]
     },
     "execution_count": 90,
     "metadata": {},
     "output_type": "execute_result"
    }
   ],
   "source": [
    "data.head()"
   ]
  },
  {
   "cell_type": "code",
   "execution_count": 92,
   "metadata": {},
   "outputs": [],
   "source": [
    "data.to_csv(\"mini_df.csv\",index=False)"
   ]
  },
  {
   "cell_type": "code",
   "execution_count": null,
   "metadata": {},
   "outputs": [],
   "source": []
  },
  {
   "cell_type": "code",
   "execution_count": null,
   "metadata": {},
   "outputs": [],
   "source": []
  }
 ],
 "metadata": {
  "kernelspec": {
   "display_name": "Python 3",
   "language": "python",
   "name": "python3"
  },
  "language_info": {
   "codemirror_mode": {
    "name": "ipython",
    "version": 3
   },
   "file_extension": ".py",
   "mimetype": "text/x-python",
   "name": "python",
   "nbconvert_exporter": "python",
   "pygments_lexer": "ipython3",
   "version": "3.8.2"
  }
 },
 "nbformat": 4,
 "nbformat_minor": 4
}
