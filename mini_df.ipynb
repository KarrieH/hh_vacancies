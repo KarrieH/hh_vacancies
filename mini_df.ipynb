{
 "cells": [
  {
   "cell_type": "code",
   "execution_count": 101,
   "metadata": {
    "id": "SPEyUoDgjnMF"
   },
   "outputs": [],
   "source": [
    "import pandas as pd\n",
    "import numpy as np\n",
    "from tqdm import tqdm\n",
    "from matplotlib import pyplot as plt"
   ]
  },
  {
   "cell_type": "code",
   "execution_count": 2,
   "metadata": {
    "colab": {
     "background_save": true
    },
    "id": "AuX6oCxc_y4V"
   },
   "outputs": [],
   "source": [
    "# Библиотека для работы с HTTP-запросами. Будем использовать ее для обращения к API HH\n",
    "import requests\n",
    "\n",
    "# Пакет для удобной работы с данными в формате json\n",
    "import json\n",
    "# Модуль для работы со значением времени\n",
    "import time\n",
    "# Модуль для работы с операционной системой. Будем использовать для работы с файлами\n",
    "import os"
   ]
  },
  {
   "cell_type": "code",
   "execution_count": 174,
   "metadata": {
    "id": "Ydi6IgNw_y62"
   },
   "outputs": [],
   "source": [
    "def getPage(page = 0):\n",
    "    \"\"\"\n",
    "    Создаем метод для получения страницы со списком вакансий.\n",
    "    Аргументы:\n",
    "        page - Индекс страницы, начинается с 0. Значение по умолчанию 0, т.е. первая страница\n",
    "    \"\"\"\n",
    "     \n",
    "    # Справочник для параметров GET-запроса\n",
    "    params = {\n",
    "        'text': 'NAME:Аналитик', # Текст фильтра. В имени должно быть слово \"Аналитик\"\n",
    "        'area': 1, # Поиск ощуществляется по вакансиям города Москва\n",
    "        'page': page, # Индекс страницы поиска на HH\n",
    "        'per_page': 100 # Кол-во вакансий на 1 странице\n",
    "    }\n",
    "     \n",
    "     \n",
    "    req = requests.get('https://api.hh.ru/vacancies', params) # Посылаем запрос к API\n",
    "    data = req.content.decode() # Декодируем его ответ, чтобы Кириллица отображалась корректно\n",
    "    req.close()\n",
    "    return data"
   ]
  },
  {
   "cell_type": "code",
   "execution_count": 183,
   "metadata": {},
   "outputs": [],
   "source": [
    "data = json.loads(getPage(page = 0))"
   ]
  },
  {
   "cell_type": "code",
   "execution_count": 187,
   "metadata": {},
   "outputs": [
    {
     "data": {
      "text/plain": [
       "{'requirement': 'Продвинутый уровень Excel – обязательно знание надстроек Excel Query и Pivot. Публикация отчетности в Powe BI и настройка прав доступа.',\n",
       " 'responsibility': 'Анализ и обработка данных по трейд-маркетинговым мероприятиям и бюджету. Поддержка актуальности и оптимизация excel-шаблонов, калькуляторов, форм планирования и...'}"
      ]
     },
     "execution_count": 187,
     "metadata": {},
     "output_type": "execute_result"
    }
   ],
   "source": [
    "data['items'][0]['snippet']"
   ]
  },
  {
   "cell_type": "code",
   "execution_count": 6,
   "metadata": {
    "colab": {
     "base_uri": "https://localhost:8080/"
    },
    "id": "CipjAAMQ_y9g",
    "outputId": "3ee2e8f5-96d7-452a-96c6-c26da42811e9"
   },
   "outputs": [
    {
     "name": "stderr",
     "output_type": "stream",
     "text": [
      " 95%|█████████▌| 19/20 [00:14<00:00,  1.27it/s]"
     ]
    },
    {
     "name": "stdout",
     "output_type": "stream",
     "text": [
      "Старницы поиска собраны\n"
     ]
    },
    {
     "name": "stderr",
     "output_type": "stream",
     "text": [
      "\n"
     ]
    }
   ],
   "source": [
    "\n",
    "# Считываем первые 2000 вакансий\n",
    "for page in tqdm(range(0, 20)):\n",
    "      # Преобразуем текст ответа запроса в справочник Python\n",
    "    jsObj = json.loads(getPage(page))\n",
    "     \n",
    "    # Сохраняем файлы в папку {путь до текущего документа со скриптом}\\docs\\pagination\n",
    "    # Определяем количество файлов в папке для сохранения документа с ответом запроса\n",
    "    # Полученное значение используем для формирования имени документа\n",
    "    nextFileName = '/Users/karinahanova/Desktop/MTS.Teta/pagination/{}.json'.format(len(os.listdir('/Users/karinahanova/Desktop/MTS.Teta/pagination/')))\n",
    "     \n",
    "    # Создаем новый документ, записываем в него ответ запроса, после закрываем\n",
    "    f = open(nextFileName, mode='w', encoding='utf8')\n",
    "    f.write(json.dumps(jsObj, ensure_ascii=False))\n",
    "    f.close()\n",
    "     \n",
    "    # Проверка на последнюю страницу, если вакансий меньше 2000\n",
    "    if (jsObj['pages'] - page) <= 1:\n",
    "        break\n",
    "     \n",
    "    # Необязательная задержка, но чтобы не нагружать сервисы hh, оставим. 5 сек мы может подождать\n",
    "    time.sleep(0.25)\n",
    "     \n",
    "print('Старницы поиска собраны')"
   ]
  },
  {
   "cell_type": "code",
   "execution_count": 3,
   "metadata": {
    "colab": {
     "base_uri": "https://localhost:8080/"
    },
    "id": "fezpN8JFCZjC",
    "outputId": "299062fb-f13a-4a1a-e38b-498f79029201"
   },
   "outputs": [
    {
     "data": {
      "text/plain": [
       "['16.json',\n",
       " '6.json',\n",
       " '7.json',\n",
       " '.DS_Store',\n",
       " '17.json',\n",
       " '10.json',\n",
       " '0.json',\n",
       " '1.json',\n",
       " '11.json',\n",
       " '2.json',\n",
       " '12.json',\n",
       " '13.json',\n",
       " '3.json',\n",
       " '8.json',\n",
       " '18.json',\n",
       " '4.json',\n",
       " '14.json',\n",
       " '15.json',\n",
       " '5.json',\n",
       " '19.json',\n",
       " '9.json']"
      ]
     },
     "execution_count": 3,
     "metadata": {},
     "output_type": "execute_result"
    }
   ],
   "source": [
    "os.listdir('/Users/karinahanova/Desktop/MTS.Teta/pagination')"
   ]
  },
  {
   "cell_type": "code",
   "execution_count": 15,
   "metadata": {
    "colab": {
     "base_uri": "https://localhost:8080/",
     "height": 477
    },
    "id": "gVueknjF_y_f",
    "outputId": "902f3643-7336-4585-d30e-4a07aaef37de"
   },
   "outputs": [
    {
     "name": "stderr",
     "output_type": "stream",
     "text": [
      " 38%|███▊      | 8/21 [06:26<10:27, 48.26s/it]\n"
     ]
    },
    {
     "ename": "ConnectionError",
     "evalue": "HTTPSConnectionPool(host='api.hh.ru', port=443): Max retries exceeded with url: /vacancies/46335787?host=hh.ru (Caused by NewConnectionError('<urllib3.connection.HTTPSConnection object at 0x7fc80accafa0>: Failed to establish a new connection: [Errno 60] Operation timed out'))",
     "output_type": "error",
     "traceback": [
      "\u001b[0;31m---------------------------------------------------------------------------\u001b[0m",
      "\u001b[0;31mTimeoutError\u001b[0m                              Traceback (most recent call last)",
      "\u001b[0;32m~/opt/anaconda3/lib/python3.8/site-packages/urllib3/connection.py\u001b[0m in \u001b[0;36m_new_conn\u001b[0;34m(self)\u001b[0m\n\u001b[1;32m    158\u001b[0m         \u001b[0;32mtry\u001b[0m\u001b[0;34m:\u001b[0m\u001b[0;34m\u001b[0m\u001b[0;34m\u001b[0m\u001b[0m\n\u001b[0;32m--> 159\u001b[0;31m             conn = connection.create_connection(\n\u001b[0m\u001b[1;32m    160\u001b[0m                 \u001b[0;34m(\u001b[0m\u001b[0mself\u001b[0m\u001b[0;34m.\u001b[0m\u001b[0m_dns_host\u001b[0m\u001b[0;34m,\u001b[0m \u001b[0mself\u001b[0m\u001b[0;34m.\u001b[0m\u001b[0mport\u001b[0m\u001b[0;34m)\u001b[0m\u001b[0;34m,\u001b[0m \u001b[0mself\u001b[0m\u001b[0;34m.\u001b[0m\u001b[0mtimeout\u001b[0m\u001b[0;34m,\u001b[0m \u001b[0;34m**\u001b[0m\u001b[0mextra_kw\u001b[0m\u001b[0;34m\u001b[0m\u001b[0;34m\u001b[0m\u001b[0m\n",
      "\u001b[0;32m~/opt/anaconda3/lib/python3.8/site-packages/urllib3/util/connection.py\u001b[0m in \u001b[0;36mcreate_connection\u001b[0;34m(address, timeout, source_address, socket_options)\u001b[0m\n\u001b[1;32m     83\u001b[0m     \u001b[0;32mif\u001b[0m \u001b[0merr\u001b[0m \u001b[0;32mis\u001b[0m \u001b[0;32mnot\u001b[0m \u001b[0;32mNone\u001b[0m\u001b[0;34m:\u001b[0m\u001b[0;34m\u001b[0m\u001b[0;34m\u001b[0m\u001b[0m\n\u001b[0;32m---> 84\u001b[0;31m         \u001b[0;32mraise\u001b[0m \u001b[0merr\u001b[0m\u001b[0;34m\u001b[0m\u001b[0;34m\u001b[0m\u001b[0m\n\u001b[0m\u001b[1;32m     85\u001b[0m \u001b[0;34m\u001b[0m\u001b[0m\n",
      "\u001b[0;32m~/opt/anaconda3/lib/python3.8/site-packages/urllib3/util/connection.py\u001b[0m in \u001b[0;36mcreate_connection\u001b[0;34m(address, timeout, source_address, socket_options)\u001b[0m\n\u001b[1;32m     73\u001b[0m                 \u001b[0msock\u001b[0m\u001b[0;34m.\u001b[0m\u001b[0mbind\u001b[0m\u001b[0;34m(\u001b[0m\u001b[0msource_address\u001b[0m\u001b[0;34m)\u001b[0m\u001b[0;34m\u001b[0m\u001b[0;34m\u001b[0m\u001b[0m\n\u001b[0;32m---> 74\u001b[0;31m             \u001b[0msock\u001b[0m\u001b[0;34m.\u001b[0m\u001b[0mconnect\u001b[0m\u001b[0;34m(\u001b[0m\u001b[0msa\u001b[0m\u001b[0;34m)\u001b[0m\u001b[0;34m\u001b[0m\u001b[0;34m\u001b[0m\u001b[0m\n\u001b[0m\u001b[1;32m     75\u001b[0m             \u001b[0;32mreturn\u001b[0m \u001b[0msock\u001b[0m\u001b[0;34m\u001b[0m\u001b[0;34m\u001b[0m\u001b[0m\n",
      "\u001b[0;31mTimeoutError\u001b[0m: [Errno 60] Operation timed out",
      "\nDuring handling of the above exception, another exception occurred:\n",
      "\u001b[0;31mNewConnectionError\u001b[0m                        Traceback (most recent call last)",
      "\u001b[0;32m~/opt/anaconda3/lib/python3.8/site-packages/urllib3/connectionpool.py\u001b[0m in \u001b[0;36murlopen\u001b[0;34m(self, method, url, body, headers, retries, redirect, assert_same_host, timeout, pool_timeout, release_conn, chunked, body_pos, **response_kw)\u001b[0m\n\u001b[1;32m    669\u001b[0m             \u001b[0;31m# Make the request on the httplib connection object.\u001b[0m\u001b[0;34m\u001b[0m\u001b[0;34m\u001b[0m\u001b[0;34m\u001b[0m\u001b[0m\n\u001b[0;32m--> 670\u001b[0;31m             httplib_response = self._make_request(\n\u001b[0m\u001b[1;32m    671\u001b[0m                 \u001b[0mconn\u001b[0m\u001b[0;34m,\u001b[0m\u001b[0;34m\u001b[0m\u001b[0;34m\u001b[0m\u001b[0m\n",
      "\u001b[0;32m~/opt/anaconda3/lib/python3.8/site-packages/urllib3/connectionpool.py\u001b[0m in \u001b[0;36m_make_request\u001b[0;34m(self, conn, method, url, timeout, chunked, **httplib_request_kw)\u001b[0m\n\u001b[1;32m    380\u001b[0m         \u001b[0;32mtry\u001b[0m\u001b[0;34m:\u001b[0m\u001b[0;34m\u001b[0m\u001b[0;34m\u001b[0m\u001b[0m\n\u001b[0;32m--> 381\u001b[0;31m             \u001b[0mself\u001b[0m\u001b[0;34m.\u001b[0m\u001b[0m_validate_conn\u001b[0m\u001b[0;34m(\u001b[0m\u001b[0mconn\u001b[0m\u001b[0;34m)\u001b[0m\u001b[0;34m\u001b[0m\u001b[0;34m\u001b[0m\u001b[0m\n\u001b[0m\u001b[1;32m    382\u001b[0m         \u001b[0;32mexcept\u001b[0m \u001b[0;34m(\u001b[0m\u001b[0mSocketTimeout\u001b[0m\u001b[0;34m,\u001b[0m \u001b[0mBaseSSLError\u001b[0m\u001b[0;34m)\u001b[0m \u001b[0;32mas\u001b[0m \u001b[0me\u001b[0m\u001b[0;34m:\u001b[0m\u001b[0;34m\u001b[0m\u001b[0;34m\u001b[0m\u001b[0m\n",
      "\u001b[0;32m~/opt/anaconda3/lib/python3.8/site-packages/urllib3/connectionpool.py\u001b[0m in \u001b[0;36m_validate_conn\u001b[0;34m(self, conn)\u001b[0m\n\u001b[1;32m    977\u001b[0m         \u001b[0;32mif\u001b[0m \u001b[0;32mnot\u001b[0m \u001b[0mgetattr\u001b[0m\u001b[0;34m(\u001b[0m\u001b[0mconn\u001b[0m\u001b[0;34m,\u001b[0m \u001b[0;34m\"sock\"\u001b[0m\u001b[0;34m,\u001b[0m \u001b[0;32mNone\u001b[0m\u001b[0;34m)\u001b[0m\u001b[0;34m:\u001b[0m  \u001b[0;31m# AppEngine might not have  `.sock`\u001b[0m\u001b[0;34m\u001b[0m\u001b[0;34m\u001b[0m\u001b[0m\n\u001b[0;32m--> 978\u001b[0;31m             \u001b[0mconn\u001b[0m\u001b[0;34m.\u001b[0m\u001b[0mconnect\u001b[0m\u001b[0;34m(\u001b[0m\u001b[0;34m)\u001b[0m\u001b[0;34m\u001b[0m\u001b[0;34m\u001b[0m\u001b[0m\n\u001b[0m\u001b[1;32m    979\u001b[0m \u001b[0;34m\u001b[0m\u001b[0m\n",
      "\u001b[0;32m~/opt/anaconda3/lib/python3.8/site-packages/urllib3/connection.py\u001b[0m in \u001b[0;36mconnect\u001b[0;34m(self)\u001b[0m\n\u001b[1;32m    308\u001b[0m         \u001b[0;31m# Add certificate verification\u001b[0m\u001b[0;34m\u001b[0m\u001b[0;34m\u001b[0m\u001b[0;34m\u001b[0m\u001b[0m\n\u001b[0;32m--> 309\u001b[0;31m         \u001b[0mconn\u001b[0m \u001b[0;34m=\u001b[0m \u001b[0mself\u001b[0m\u001b[0;34m.\u001b[0m\u001b[0m_new_conn\u001b[0m\u001b[0;34m(\u001b[0m\u001b[0;34m)\u001b[0m\u001b[0;34m\u001b[0m\u001b[0;34m\u001b[0m\u001b[0m\n\u001b[0m\u001b[1;32m    310\u001b[0m         \u001b[0mhostname\u001b[0m \u001b[0;34m=\u001b[0m \u001b[0mself\u001b[0m\u001b[0;34m.\u001b[0m\u001b[0mhost\u001b[0m\u001b[0;34m\u001b[0m\u001b[0;34m\u001b[0m\u001b[0m\n",
      "\u001b[0;32m~/opt/anaconda3/lib/python3.8/site-packages/urllib3/connection.py\u001b[0m in \u001b[0;36m_new_conn\u001b[0;34m(self)\u001b[0m\n\u001b[1;32m    170\u001b[0m         \u001b[0;32mexcept\u001b[0m \u001b[0mSocketError\u001b[0m \u001b[0;32mas\u001b[0m \u001b[0me\u001b[0m\u001b[0;34m:\u001b[0m\u001b[0;34m\u001b[0m\u001b[0;34m\u001b[0m\u001b[0m\n\u001b[0;32m--> 171\u001b[0;31m             raise NewConnectionError(\n\u001b[0m\u001b[1;32m    172\u001b[0m                 \u001b[0mself\u001b[0m\u001b[0;34m,\u001b[0m \u001b[0;34m\"Failed to establish a new connection: %s\"\u001b[0m \u001b[0;34m%\u001b[0m \u001b[0me\u001b[0m\u001b[0;34m\u001b[0m\u001b[0;34m\u001b[0m\u001b[0m\n",
      "\u001b[0;31mNewConnectionError\u001b[0m: <urllib3.connection.HTTPSConnection object at 0x7fc80accafa0>: Failed to establish a new connection: [Errno 60] Operation timed out",
      "\nDuring handling of the above exception, another exception occurred:\n",
      "\u001b[0;31mMaxRetryError\u001b[0m                             Traceback (most recent call last)",
      "\u001b[0;32m~/opt/anaconda3/lib/python3.8/site-packages/requests/adapters.py\u001b[0m in \u001b[0;36msend\u001b[0;34m(self, request, stream, timeout, verify, cert, proxies)\u001b[0m\n\u001b[1;32m    438\u001b[0m             \u001b[0;32mif\u001b[0m \u001b[0;32mnot\u001b[0m \u001b[0mchunked\u001b[0m\u001b[0;34m:\u001b[0m\u001b[0;34m\u001b[0m\u001b[0;34m\u001b[0m\u001b[0m\n\u001b[0;32m--> 439\u001b[0;31m                 resp = conn.urlopen(\n\u001b[0m\u001b[1;32m    440\u001b[0m                     \u001b[0mmethod\u001b[0m\u001b[0;34m=\u001b[0m\u001b[0mrequest\u001b[0m\u001b[0;34m.\u001b[0m\u001b[0mmethod\u001b[0m\u001b[0;34m,\u001b[0m\u001b[0;34m\u001b[0m\u001b[0;34m\u001b[0m\u001b[0m\n",
      "\u001b[0;32m~/opt/anaconda3/lib/python3.8/site-packages/urllib3/connectionpool.py\u001b[0m in \u001b[0;36murlopen\u001b[0;34m(self, method, url, body, headers, retries, redirect, assert_same_host, timeout, pool_timeout, release_conn, chunked, body_pos, **response_kw)\u001b[0m\n\u001b[1;32m    725\u001b[0m \u001b[0;34m\u001b[0m\u001b[0m\n\u001b[0;32m--> 726\u001b[0;31m             retries = retries.increment(\n\u001b[0m\u001b[1;32m    727\u001b[0m                 \u001b[0mmethod\u001b[0m\u001b[0;34m,\u001b[0m \u001b[0murl\u001b[0m\u001b[0;34m,\u001b[0m \u001b[0merror\u001b[0m\u001b[0;34m=\u001b[0m\u001b[0me\u001b[0m\u001b[0;34m,\u001b[0m \u001b[0m_pool\u001b[0m\u001b[0;34m=\u001b[0m\u001b[0mself\u001b[0m\u001b[0;34m,\u001b[0m \u001b[0m_stacktrace\u001b[0m\u001b[0;34m=\u001b[0m\u001b[0msys\u001b[0m\u001b[0;34m.\u001b[0m\u001b[0mexc_info\u001b[0m\u001b[0;34m(\u001b[0m\u001b[0;34m)\u001b[0m\u001b[0;34m[\u001b[0m\u001b[0;36m2\u001b[0m\u001b[0;34m]\u001b[0m\u001b[0;34m\u001b[0m\u001b[0;34m\u001b[0m\u001b[0m\n",
      "\u001b[0;32m~/opt/anaconda3/lib/python3.8/site-packages/urllib3/util/retry.py\u001b[0m in \u001b[0;36mincrement\u001b[0;34m(self, method, url, response, error, _pool, _stacktrace)\u001b[0m\n\u001b[1;32m    445\u001b[0m         \u001b[0;32mif\u001b[0m \u001b[0mnew_retry\u001b[0m\u001b[0;34m.\u001b[0m\u001b[0mis_exhausted\u001b[0m\u001b[0;34m(\u001b[0m\u001b[0;34m)\u001b[0m\u001b[0;34m:\u001b[0m\u001b[0;34m\u001b[0m\u001b[0;34m\u001b[0m\u001b[0m\n\u001b[0;32m--> 446\u001b[0;31m             \u001b[0;32mraise\u001b[0m \u001b[0mMaxRetryError\u001b[0m\u001b[0;34m(\u001b[0m\u001b[0m_pool\u001b[0m\u001b[0;34m,\u001b[0m \u001b[0murl\u001b[0m\u001b[0;34m,\u001b[0m \u001b[0merror\u001b[0m \u001b[0;32mor\u001b[0m \u001b[0mResponseError\u001b[0m\u001b[0;34m(\u001b[0m\u001b[0mcause\u001b[0m\u001b[0;34m)\u001b[0m\u001b[0;34m)\u001b[0m\u001b[0;34m\u001b[0m\u001b[0;34m\u001b[0m\u001b[0m\n\u001b[0m\u001b[1;32m    447\u001b[0m \u001b[0;34m\u001b[0m\u001b[0m\n",
      "\u001b[0;31mMaxRetryError\u001b[0m: HTTPSConnectionPool(host='api.hh.ru', port=443): Max retries exceeded with url: /vacancies/46335787?host=hh.ru (Caused by NewConnectionError('<urllib3.connection.HTTPSConnection object at 0x7fc80accafa0>: Failed to establish a new connection: [Errno 60] Operation timed out'))",
      "\nDuring handling of the above exception, another exception occurred:\n",
      "\u001b[0;31mConnectionError\u001b[0m                           Traceback (most recent call last)",
      "\u001b[0;32m<ipython-input-15-655a3022f5f7>\u001b[0m in \u001b[0;36m<module>\u001b[0;34m\u001b[0m\n\u001b[1;32m     15\u001b[0m \u001b[0;34m\u001b[0m\u001b[0m\n\u001b[1;32m     16\u001b[0m         \u001b[0;31m# Обращаемся к API и получаем детальную информацию по конкретной вакансии\u001b[0m\u001b[0;34m\u001b[0m\u001b[0;34m\u001b[0m\u001b[0;34m\u001b[0m\u001b[0m\n\u001b[0;32m---> 17\u001b[0;31m             \u001b[0mreq\u001b[0m \u001b[0;34m=\u001b[0m \u001b[0mrequests\u001b[0m\u001b[0;34m.\u001b[0m\u001b[0mget\u001b[0m\u001b[0;34m(\u001b[0m\u001b[0mv\u001b[0m\u001b[0;34m[\u001b[0m\u001b[0;34m'url'\u001b[0m\u001b[0;34m]\u001b[0m\u001b[0;34m)\u001b[0m\u001b[0;34m\u001b[0m\u001b[0;34m\u001b[0m\u001b[0m\n\u001b[0m\u001b[1;32m     18\u001b[0m             \u001b[0mdata\u001b[0m \u001b[0;34m=\u001b[0m \u001b[0mreq\u001b[0m\u001b[0;34m.\u001b[0m\u001b[0mcontent\u001b[0m\u001b[0;34m.\u001b[0m\u001b[0mdecode\u001b[0m\u001b[0;34m(\u001b[0m\u001b[0;34m)\u001b[0m\u001b[0;34m\u001b[0m\u001b[0;34m\u001b[0m\u001b[0m\n\u001b[1;32m     19\u001b[0m             \u001b[0mreq\u001b[0m\u001b[0;34m.\u001b[0m\u001b[0mclose\u001b[0m\u001b[0;34m(\u001b[0m\u001b[0;34m)\u001b[0m\u001b[0;34m\u001b[0m\u001b[0;34m\u001b[0m\u001b[0m\n",
      "\u001b[0;32m~/opt/anaconda3/lib/python3.8/site-packages/requests/api.py\u001b[0m in \u001b[0;36mget\u001b[0;34m(url, params, **kwargs)\u001b[0m\n\u001b[1;32m     74\u001b[0m \u001b[0;34m\u001b[0m\u001b[0m\n\u001b[1;32m     75\u001b[0m     \u001b[0mkwargs\u001b[0m\u001b[0;34m.\u001b[0m\u001b[0msetdefault\u001b[0m\u001b[0;34m(\u001b[0m\u001b[0;34m'allow_redirects'\u001b[0m\u001b[0;34m,\u001b[0m \u001b[0;32mTrue\u001b[0m\u001b[0;34m)\u001b[0m\u001b[0;34m\u001b[0m\u001b[0;34m\u001b[0m\u001b[0m\n\u001b[0;32m---> 76\u001b[0;31m     \u001b[0;32mreturn\u001b[0m \u001b[0mrequest\u001b[0m\u001b[0;34m(\u001b[0m\u001b[0;34m'get'\u001b[0m\u001b[0;34m,\u001b[0m \u001b[0murl\u001b[0m\u001b[0;34m,\u001b[0m \u001b[0mparams\u001b[0m\u001b[0;34m=\u001b[0m\u001b[0mparams\u001b[0m\u001b[0;34m,\u001b[0m \u001b[0;34m**\u001b[0m\u001b[0mkwargs\u001b[0m\u001b[0;34m)\u001b[0m\u001b[0;34m\u001b[0m\u001b[0;34m\u001b[0m\u001b[0m\n\u001b[0m\u001b[1;32m     77\u001b[0m \u001b[0;34m\u001b[0m\u001b[0m\n\u001b[1;32m     78\u001b[0m \u001b[0;34m\u001b[0m\u001b[0m\n",
      "\u001b[0;32m~/opt/anaconda3/lib/python3.8/site-packages/requests/api.py\u001b[0m in \u001b[0;36mrequest\u001b[0;34m(method, url, **kwargs)\u001b[0m\n\u001b[1;32m     59\u001b[0m     \u001b[0;31m# cases, and look like a memory leak in others.\u001b[0m\u001b[0;34m\u001b[0m\u001b[0;34m\u001b[0m\u001b[0;34m\u001b[0m\u001b[0m\n\u001b[1;32m     60\u001b[0m     \u001b[0;32mwith\u001b[0m \u001b[0msessions\u001b[0m\u001b[0;34m.\u001b[0m\u001b[0mSession\u001b[0m\u001b[0;34m(\u001b[0m\u001b[0;34m)\u001b[0m \u001b[0;32mas\u001b[0m \u001b[0msession\u001b[0m\u001b[0;34m:\u001b[0m\u001b[0;34m\u001b[0m\u001b[0;34m\u001b[0m\u001b[0m\n\u001b[0;32m---> 61\u001b[0;31m         \u001b[0;32mreturn\u001b[0m \u001b[0msession\u001b[0m\u001b[0;34m.\u001b[0m\u001b[0mrequest\u001b[0m\u001b[0;34m(\u001b[0m\u001b[0mmethod\u001b[0m\u001b[0;34m=\u001b[0m\u001b[0mmethod\u001b[0m\u001b[0;34m,\u001b[0m \u001b[0murl\u001b[0m\u001b[0;34m=\u001b[0m\u001b[0murl\u001b[0m\u001b[0;34m,\u001b[0m \u001b[0;34m**\u001b[0m\u001b[0mkwargs\u001b[0m\u001b[0;34m)\u001b[0m\u001b[0;34m\u001b[0m\u001b[0;34m\u001b[0m\u001b[0m\n\u001b[0m\u001b[1;32m     62\u001b[0m \u001b[0;34m\u001b[0m\u001b[0m\n\u001b[1;32m     63\u001b[0m \u001b[0;34m\u001b[0m\u001b[0m\n",
      "\u001b[0;32m~/opt/anaconda3/lib/python3.8/site-packages/requests/sessions.py\u001b[0m in \u001b[0;36mrequest\u001b[0;34m(self, method, url, params, data, headers, cookies, files, auth, timeout, allow_redirects, proxies, hooks, stream, verify, cert, json)\u001b[0m\n\u001b[1;32m    528\u001b[0m         }\n\u001b[1;32m    529\u001b[0m         \u001b[0msend_kwargs\u001b[0m\u001b[0;34m.\u001b[0m\u001b[0mupdate\u001b[0m\u001b[0;34m(\u001b[0m\u001b[0msettings\u001b[0m\u001b[0;34m)\u001b[0m\u001b[0;34m\u001b[0m\u001b[0;34m\u001b[0m\u001b[0m\n\u001b[0;32m--> 530\u001b[0;31m         \u001b[0mresp\u001b[0m \u001b[0;34m=\u001b[0m \u001b[0mself\u001b[0m\u001b[0;34m.\u001b[0m\u001b[0msend\u001b[0m\u001b[0;34m(\u001b[0m\u001b[0mprep\u001b[0m\u001b[0;34m,\u001b[0m \u001b[0;34m**\u001b[0m\u001b[0msend_kwargs\u001b[0m\u001b[0;34m)\u001b[0m\u001b[0;34m\u001b[0m\u001b[0;34m\u001b[0m\u001b[0m\n\u001b[0m\u001b[1;32m    531\u001b[0m \u001b[0;34m\u001b[0m\u001b[0m\n\u001b[1;32m    532\u001b[0m         \u001b[0;32mreturn\u001b[0m \u001b[0mresp\u001b[0m\u001b[0;34m\u001b[0m\u001b[0;34m\u001b[0m\u001b[0m\n",
      "\u001b[0;32m~/opt/anaconda3/lib/python3.8/site-packages/requests/sessions.py\u001b[0m in \u001b[0;36msend\u001b[0;34m(self, request, **kwargs)\u001b[0m\n\u001b[1;32m    641\u001b[0m \u001b[0;34m\u001b[0m\u001b[0m\n\u001b[1;32m    642\u001b[0m         \u001b[0;31m# Send the request\u001b[0m\u001b[0;34m\u001b[0m\u001b[0;34m\u001b[0m\u001b[0;34m\u001b[0m\u001b[0m\n\u001b[0;32m--> 643\u001b[0;31m         \u001b[0mr\u001b[0m \u001b[0;34m=\u001b[0m \u001b[0madapter\u001b[0m\u001b[0;34m.\u001b[0m\u001b[0msend\u001b[0m\u001b[0;34m(\u001b[0m\u001b[0mrequest\u001b[0m\u001b[0;34m,\u001b[0m \u001b[0;34m**\u001b[0m\u001b[0mkwargs\u001b[0m\u001b[0;34m)\u001b[0m\u001b[0;34m\u001b[0m\u001b[0;34m\u001b[0m\u001b[0m\n\u001b[0m\u001b[1;32m    644\u001b[0m \u001b[0;34m\u001b[0m\u001b[0m\n\u001b[1;32m    645\u001b[0m         \u001b[0;31m# Total elapsed time of the request (approximately)\u001b[0m\u001b[0;34m\u001b[0m\u001b[0;34m\u001b[0m\u001b[0;34m\u001b[0m\u001b[0m\n",
      "\u001b[0;32m~/opt/anaconda3/lib/python3.8/site-packages/requests/adapters.py\u001b[0m in \u001b[0;36msend\u001b[0;34m(self, request, stream, timeout, verify, cert, proxies)\u001b[0m\n\u001b[1;32m    514\u001b[0m                 \u001b[0;32mraise\u001b[0m \u001b[0mSSLError\u001b[0m\u001b[0;34m(\u001b[0m\u001b[0me\u001b[0m\u001b[0;34m,\u001b[0m \u001b[0mrequest\u001b[0m\u001b[0;34m=\u001b[0m\u001b[0mrequest\u001b[0m\u001b[0;34m)\u001b[0m\u001b[0;34m\u001b[0m\u001b[0;34m\u001b[0m\u001b[0m\n\u001b[1;32m    515\u001b[0m \u001b[0;34m\u001b[0m\u001b[0m\n\u001b[0;32m--> 516\u001b[0;31m             \u001b[0;32mraise\u001b[0m \u001b[0mConnectionError\u001b[0m\u001b[0;34m(\u001b[0m\u001b[0me\u001b[0m\u001b[0;34m,\u001b[0m \u001b[0mrequest\u001b[0m\u001b[0;34m=\u001b[0m\u001b[0mrequest\u001b[0m\u001b[0;34m)\u001b[0m\u001b[0;34m\u001b[0m\u001b[0;34m\u001b[0m\u001b[0m\n\u001b[0m\u001b[1;32m    517\u001b[0m \u001b[0;34m\u001b[0m\u001b[0m\n\u001b[1;32m    518\u001b[0m         \u001b[0;32mexcept\u001b[0m \u001b[0mClosedPoolError\u001b[0m \u001b[0;32mas\u001b[0m \u001b[0me\u001b[0m\u001b[0;34m:\u001b[0m\u001b[0;34m\u001b[0m\u001b[0;34m\u001b[0m\u001b[0m\n",
      "\u001b[0;31mConnectionError\u001b[0m: HTTPSConnectionPool(host='api.hh.ru', port=443): Max retries exceeded with url: /vacancies/46335787?host=hh.ru (Caused by NewConnectionError('<urllib3.connection.HTTPSConnection object at 0x7fc80accafa0>: Failed to establish a new connection: [Errno 60] Operation timed out'))"
     ]
    }
   ],
   "source": [
    "# Получаем перечень ранее созданных файлов со списком вакансий и проходимся по нему в цикле \n",
    "for fl in tqdm(os.listdir('pagination')):\n",
    "    if fl[-4:] == 'json':\n",
    "     \n",
    "    # Открываем файл, читаем его содержимое, закрываем файл\n",
    "        f = open('pagination/{}'.format(fl), encoding='utf8')\n",
    "        jsonText = f.read()\n",
    "        f.close()\n",
    "     \n",
    "    # Преобразуем полученный текст в объект справочника\n",
    "        jsonObj = json.loads(jsonText)\n",
    "     \n",
    "    # Получаем и проходимся по непосредственно списку вакансий\n",
    "        for v in jsonObj['items']:\n",
    "         \n",
    "        # Обращаемся к API и получаем детальную информацию по конкретной вакансии\n",
    "            req = requests.get(v['url'])\n",
    "            data = req.content.decode()\n",
    "            req.close()\n",
    "         \n",
    "        # Создаем файл в формате json с идентификатором вакансии в качестве названия\n",
    "        # Записываем в него ответ запроса и закрываем файл\n",
    "            fileName = 'vacancies/{}.json'.format(v['id'])\n",
    "            f = open(fileName, mode='w', encoding='utf8')\n",
    "            f.write(data)\n",
    "            f.close()\n",
    "         \n",
    "            time.sleep(0.25)"
   ]
  },
  {
   "cell_type": "code",
   "execution_count": 19,
   "metadata": {
    "id": "extZz5pW_zBx"
   },
   "outputs": [],
   "source": [
    "with open(\"vacancies/46400329.json\", \"r\") as read_file:\n",
    "    data = json.load(read_file)\n"
   ]
  },
  {
   "cell_type": "code",
   "execution_count": 20,
   "metadata": {
    "colab": {
     "base_uri": "https://localhost:8080/",
     "height": 171
    },
    "id": "rLwk9FuL_zEF",
    "outputId": "5c2cfedd-eb99-463a-9e70-081c36c71d7d"
   },
   "outputs": [
    {
     "data": {
      "text/plain": [
       "'<p><strong>«Рексофт»</strong> — один из ведущих российских разработчиков программного обеспечения. Мы работаем в сфере ИТ-услуг с 1991 г. и за это время успели выполнить более 1000 проектов в области ИТ-консалтинга, проектирования, разработки, тестирования и поддержки ПО. Среди клиентов «Рексофта» крупнейшие международные и российские компании, такие как Федеральная Миграционная Служба России, «Сбербанк», ВТБ24, Промсвязьбанк, «Ростелеком», Tele2, FXDD, Philip Morris, Sicap, Swisscom Mobile, Tieto, StoraEnso, T-Systems и другие.<br />Головной офис «Рексофт» находится в Санкт-Петербурге. Также у компании есть филиалы в Москве, Воронеже и Ростове-на-Дону.<br /><br />Мы приглашаем в свою команду <strong>бизнес - аналитика</strong> для реализации интересных и масштабных проектов, сотрудника, настроенного на лидерство, готового решать сложные задачи и постоянно совершенствовать свои профессиональные качества.</p> <p><strong>Обязанности:</strong></p> <ul> <li>Разработка технических заданий и спецификаций системных требований на основании бизнес-требований, описания бизнес-процессов и сценариев использования;</li> <li>Проработка интеграционного межсистемного/модульного взаимодействия;</li> <li>Написание постановок на системные сервисы и интеграционные компоненты;</li> <li>Проработка маппингов и трансформаций данных.</li> </ul> <p><strong>Требования:</strong></p> <ul> <li>Опыт работы бизнес - аналитиком в сфере разработки и поддержки ПО не менее 3 лет;</li> <li>Опыт проектирования межсистемного обмена;</li> <li>Знакомство с нотациями описания процессов (IDEF, BPMN 2.0, EPC, UML);</li> <li>Хорошее знание и понимание процессов разработки и тестирования ПО;</li> <li>Опыт и навыки взаимодействия с бизнес-аналитиками и разработчиками;</li> <li>Системное мышление и умение самостоятельно и последовательно разбираться в поставленных задачах.</li> </ul> <strong>Мы предлагаем:</strong> <ul> <li>Удалённое сотрудничество; </li> <li>Гибкий график работы;</li> <li>Возможность профессионального и карьерного роста, участие в конференциях;</li> <li>Официальное трудоустройство, достойную белую зарплату и соц. пакет в соответствии с ТК РФ;</li> <li>Полис ДМС, стопроцентная оплата больничных, страхование выезжающего за рубеж;</li> <li>Спортивные мероприятия и корпоративные праздники.</li> </ul>'"
      ]
     },
     "execution_count": 20,
     "metadata": {},
     "output_type": "execute_result"
    }
   ],
   "source": [
    "data['description']"
   ]
  },
  {
   "cell_type": "code",
   "execution_count": 4,
   "metadata": {
    "id": "HKHMDak9GTUM"
   },
   "outputs": [],
   "source": [
    "from io import StringIO\n",
    "from html.parser import HTMLParser\n",
    "\n",
    "class MLStripper(HTMLParser):\n",
    "    def __init__(self):\n",
    "        super().__init__()\n",
    "        self.reset()\n",
    "        self.strict = False\n",
    "        self.convert_charrefs= True\n",
    "        self.text = StringIO()\n",
    "    def handle_data(self, d):\n",
    "        self.text.write(d)\n",
    "    def get_data(self):\n",
    "        return self.text.getvalue()\n",
    "\n",
    "def strip_tags(html):\n",
    "    s = MLStripper()\n",
    "    s.feed(html)\n",
    "    return s.get_data()"
   ]
  },
  {
   "cell_type": "code",
   "execution_count": null,
   "metadata": {
    "colab": {
     "base_uri": "https://localhost:8080/",
     "height": 137
    },
    "id": "-uzt-ekJIPS7",
    "outputId": "4baef34c-be34-4747-d2c0-6d72458e45e9"
   },
   "outputs": [],
   "source": []
  },
  {
   "cell_type": "code",
   "execution_count": 23,
   "metadata": {
    "colab": {
     "base_uri": "https://localhost:8080/"
    },
    "id": "PcAMynCBITDa",
    "outputId": "919ce791-7a5b-4b79-b783-f688093ec89c"
   },
   "outputs": [
    {
     "data": {
      "text/plain": [
       "{'id': '46400329',\n",
       " 'premium': False,\n",
       " 'billing_type': {'id': 'standard', 'name': 'Стандарт'},\n",
       " 'relations': [],\n",
       " 'name': 'Бизнес-аналитик',\n",
       " 'insider_interview': None,\n",
       " 'response_letter_required': False,\n",
       " 'area': {'id': '1',\n",
       "  'name': 'Москва',\n",
       "  'url': 'https://api.hh.ru/areas/1?host=hh.ru'},\n",
       " 'salary': None,\n",
       " 'type': {'id': 'open', 'name': 'Открытая'},\n",
       " 'address': {'city': 'Москва',\n",
       "  'street': 'Варшавское шоссе',\n",
       "  'building': '26',\n",
       "  'description': None,\n",
       "  'lat': 55.684503,\n",
       "  'lng': 37.621947,\n",
       "  'raw': 'Москва, Варшавское шоссе, 26',\n",
       "  'metro': {'station_name': 'Нагатинская',\n",
       "   'line_name': 'Серпуховско-Тимирязевская',\n",
       "   'station_id': '9.85',\n",
       "   'line_id': '9',\n",
       "   'lat': 55.682099,\n",
       "   'lng': 37.620917},\n",
       "  'metro_stations': [{'station_name': 'Нагатинская',\n",
       "    'line_name': 'Серпуховско-Тимирязевская',\n",
       "    'station_id': '9.85',\n",
       "    'line_id': '9',\n",
       "    'lat': 55.682099,\n",
       "    'lng': 37.620917}]},\n",
       " 'allow_messages': True,\n",
       " 'site': {'id': 'hh', 'name': 'hh.ru'},\n",
       " 'experience': {'id': 'between3And6', 'name': 'От 3 до 6 лет'},\n",
       " 'schedule': {'id': 'remote', 'name': 'Удаленная работа'},\n",
       " 'employment': {'id': 'full', 'name': 'Полная занятость'},\n",
       " 'department': None,\n",
       " 'contacts': None,\n",
       " 'description': '<p><strong>«Рексофт»</strong> — один из ведущих российских разработчиков программного обеспечения. Мы работаем в сфере ИТ-услуг с 1991 г. и за это время успели выполнить более 1000 проектов в области ИТ-консалтинга, проектирования, разработки, тестирования и поддержки ПО. Среди клиентов «Рексофта» крупнейшие международные и российские компании, такие как Федеральная Миграционная Служба России, «Сбербанк», ВТБ24, Промсвязьбанк, «Ростелеком», Tele2, FXDD, Philip Morris, Sicap, Swisscom Mobile, Tieto, StoraEnso, T-Systems и другие.<br />Головной офис «Рексофт» находится в Санкт-Петербурге. Также у компании есть филиалы в Москве, Воронеже и Ростове-на-Дону.<br /><br />Мы приглашаем в свою команду <strong>бизнес - аналитика</strong> для реализации интересных и масштабных проектов, сотрудника, настроенного на лидерство, готового решать сложные задачи и постоянно совершенствовать свои профессиональные качества.</p> <p><strong>Обязанности:</strong></p> <ul> <li>Разработка технических заданий и спецификаций системных требований на основании бизнес-требований, описания бизнес-процессов и сценариев использования;</li> <li>Проработка интеграционного межсистемного/модульного взаимодействия;</li> <li>Написание постановок на системные сервисы и интеграционные компоненты;</li> <li>Проработка маппингов и трансформаций данных.</li> </ul> <p><strong>Требования:</strong></p> <ul> <li>Опыт работы бизнес - аналитиком в сфере разработки и поддержки ПО не менее 3 лет;</li> <li>Опыт проектирования межсистемного обмена;</li> <li>Знакомство с нотациями описания процессов (IDEF, BPMN 2.0, EPC, UML);</li> <li>Хорошее знание и понимание процессов разработки и тестирования ПО;</li> <li>Опыт и навыки взаимодействия с бизнес-аналитиками и разработчиками;</li> <li>Системное мышление и умение самостоятельно и последовательно разбираться в поставленных задачах.</li> </ul> <strong>Мы предлагаем:</strong> <ul> <li>Удалённое сотрудничество; </li> <li>Гибкий график работы;</li> <li>Возможность профессионального и карьерного роста, участие в конференциях;</li> <li>Официальное трудоустройство, достойную белую зарплату и соц. пакет в соответствии с ТК РФ;</li> <li>Полис ДМС, стопроцентная оплата больничных, страхование выезжающего за рубеж;</li> <li>Спортивные мероприятия и корпоративные праздники.</li> </ul>',\n",
       " 'branded_description': '\\n<style type=\"text/css\">\\n.tmpl_hh-wrapper a,.tmpl_hh-wrapper abbr,.tmpl_hh-wrapper acronym,.tmpl_hh-wrapper address,.tmpl_hh-wrapper big,.tmpl_hh-wrapper blockquote,.tmpl_hh-wrapper cite,.tmpl_hh-wrapper code,.tmpl_hh-wrapper footer,.tmpl_hh-wrapper h1,.tmpl_hh-wrapper h2,.tmpl_hh-wrapper h3,.tmpl_hh-wrapper h4,.tmpl_hh-wrapper h5,.tmpl_hh-wrapper h6,.tmpl_hh-wrapper header,.tmpl_hh-wrapper img,.tmpl_hh-wrapper li,.tmpl_hh-wrapper ol,.tmpl_hh-wrapper p,.tmpl_hh-wrapper pre,.tmpl_hh-wrapper ul {\\n    margin: 0;\\n    padding: 0;\\n    border: 0;\\n    font: inherit;\\n    vertical-align: baseline\\n}\\n\\n.tmpl_hh-clear {\\n    clear: both\\n}\\n\\n.tmpl_hh-wrapper footer,.tmpl_hh-wrapper header,.tmpl_hh_footer img {\\n    display: block\\n}\\n\\n.hht-vacancydescription,.tmpl_hh-wrapper .l-cell,.tmpl_hh-wrapper .l-paddings {\\n    padding: 0\\n}\\n\\n.tmpl_hh-wrapper .b-vacancy-desc-wrapper {\\n    margin-top: 0\\n}\\n\\n.tmpl_hh_content ol li b,.tmpl_hh_content ol li p b,.tmpl_hh_content ol li p strong,.tmpl_hh_content ol li strong,.tmpl_hh_content ul li b,.tmpl_hh_content ul li p b,.tmpl_hh_content ul li p strong,.tmpl_hh_content ul li strong {\\n    font-weight: 400;\\n    font-size: inherit!important;\\n    color: inherit!important;\\n    margin: 0!important;\\n    text-transform: none\\n}\\n\\n.tmpl_hh_content ol li p,.tmpl_hh_content ul li p {\\n    font-weight: 400;\\n    margin: 0\\n}\\n\\n.tmpl_hh_content p b,.tmpl_hh_content p strong {\\n    display: inline;\\n    margin: 0\\n}\\n\\n.tmpl_hh-wrapper {\\n    width: 100%;\\n    margin: 0 auto;\\n    position: relative;\\n    font-family: \\'Arial\\';\\n    overflow: hidden\\n}\\n\\n.tmpl_hh_head {\\n    padding: 56px 70px 71px\\n}\\n\\n.tmpl_hh_head__logo {\\n    display: block;\\n    width: 318px;\\n    height: 63px\\n}\\n\\n.tmpl_hh_content {\\n    padding: 0 70px 21px;\\n    font-size: 14px;\\n    line-height: 17px\\n}\\n\\n.tmpl_hh_content .b-vacancy-desc-wrapper>strong:first-child,.tmpl_hh_content p:first-child {\\n    margin-top: 0!important\\n}\\n\\n.tmpl_hh_content p {\\n    margin: 32px 0 15px\\n}\\n\\n.tmpl_hh_content b,.tmpl_hh_content strong {\\n    display: inline-block;\\n    font-weight: 700;\\n    font-size: 20px;\\n    margin: 32px 0 15px\\n}\\n\\n.tmpl_hh_content ul {\\n    list-style: none!important;\\n    margin-left: 13px\\n}\\n\\n.tmpl_hh_content ol {\\n    list-style: decimal outside;\\n    margin-left: 13px\\n}\\n\\n.tmpl_hh_content ol li,.tmpl_hh_content ul li {\\n    position: relative;\\n    margin-bottom: 8px\\n}\\n\\n.tmpl_hh_content ul>li:before {\\n    content: \\'\\\\2022\\';\\n    position: absolute;\\n    left: -13px;\\n    top: -3px;\\n    font-size: 20px\\n}\\n\\n.tmpl_hh_footer {\\n    position: relative;\\n    z-index: 2\\n}\\n\\n.tmpl_hh_bg1 {\\n    position: absolute;\\n    width: 65px;\\n    height: 672px;\\n    left: 19px;\\n    top: 19px;\\n    background: url(data:image/png;base64,iVBORw0KGgoAAAANSUhEUgAAAEEAAAKgCAMAAADzruB5AAAA81BMVEVHcExexr1fxr9fxb9exb9fxr9gxsBdx75fxb5exb4CXFV/0cz/VVXxcnrwc3rxc3rwcnn0cHrxcnrxc3n0dHTxc3nxcnrvcnnvc3v/bW3wcnnwc3nwcnrwcHjwcnnwc3rwc3rycnnwcnnxcnvwcnnwcnrwc3rwc3rxc3rxc3nxc3nxdHrxc3nwcnrxc3n/AADxcnnxcnnwcnnxc3r/f3/xc3rwcnnwc3rzbnnxcnrzc3/wc3rwcnrvc3vwc3rycXn/Zmbwc3nwcnrwcnnvb3fxcnnuc3vwcnnwc3rxc3rxc3rxc3nxcnjxc3nxcnrxcnjxcnqz72ERAAAAUXRSTlMAVtT5VP9VV9b6//8Dmmz/axnw7ximpUNCB9h8eyL39rV2j3KKjomLzMtzcHGMyQHNhpGSApRpaBfuFqOiQP4/BdbVeCD1H7KxTb7zTITyTvSifyXLAAABjklEQVR4Ae3RVZqTQRSE4YonWOHujLvhjHt8/6vh6ST/feiDz/cu4EiVCqVypVxSQLWWREaUa0lZ+Sq1pPJHb6jXkoYCGs1WsxgAAAAAAAAAAAAAAABwbTq/dAKCrk8nPkFXFAAAAAAAAAAAAAAAAAAAuHHzhmJu+bZC7tz1vfuKeGD7oQIeOXmsbE+eOnn6RLmeeey5Mr146bFXL5TntQuvVQDw5q2kt++Ub8azmvWcAua94BmFLHpRITNe8Lz+aA5Loy6WBSQr85Lml5Vv1jNa9YwC3nrN84pYX/CaQla94U0FzHt+fSs0YnlGWt9eEuJ23u8o5oM/KuTTPX/+ooivtr8pYHfP9t6+sh0cOjk6UK5jjx0r08mpx07PlOfchQsB/4vLdqfT7ipfzyM95ep64lKZ2p5oK1PfE/3whM6f++LSE5fxNvMN2sNh+1IAAAAAAAAAAAAAAAAAAAAAAAAAAAAAAAAAAAAA/nWlcqVcUkC1lkRGlGtJWfkqtaTyR2+o15KGAhrNVvPHBnwHn3YpzxUZbeYAAAAASUVORK5CYII=) 0 0 no-repeat\\n}\\n\\n.tmpl_hh_bg2 {\\n    position: absolute;\\n    right: 0;\\n    top: 38px;\\n    width: 179px;\\n    height: 527px;\\n    background: url(https://hhcdn.ru/ichameleon/83416.png) 0 0 no-repeat\\n}\\n\\n.tmpl_hh_bg3 {\\n    position: absolute;\\n    width: 7px;\\n    height: 7px;\\n    border-radius: 100%;\\n    background: #5fc6bf;\\n    bottom: 39px;\\n    right: 135px;\\n    z-index: 3\\n}\\n\\n@media screen and (max-width:699px) {\\n    .tmpl_hh_head {\\n        padding: 20px 5% 30px\\n    }\\n\\n    .tmpl_hh_head__logo {\\n        width: 200px;\\n        height: 40px\\n    }\\n\\n    .tmpl_hh_content {\\n        padding: 0 5% 30px\\n    }\\n\\n    .tmpl_hh_bg1,.tmpl_hh_bg2 {\\n        top: 0;\\n        background-size: 100% auto\\n    }\\n\\n    .tmpl_hh_bg1 {\\n        left: 0;\\n        width: 38px;\\n        height: 100%\\n    }\\n\\n    .tmpl_hh_bg2 {\\n        width: 60px\\n    }\\n\\n    .tmpl_hh_bg3 {\\n        display: none\\n    }\\n\\n    .tmpl_hh_content b,.tmpl_hh_content strong {\\n        font-size: 16px\\n    }\\n\\n    .tmpl_hh_content ul>li:before {\\n        top: 0;\\n        font-size: 16px;\\n    }\\n}\\n</style>\\n\\n        <div class=\"tmpl_hh-wrapper\">\\n            <div class=\"tmpl_hh_bg1\"><!-- --></div>\\n            <div class=\"tmpl_hh_bg2\"><!-- --></div>\\n            <div class=\"tmpl_hh_bg3\"><!-- --></div>\\n           \\n            <div class=\"tmpl_hh_head\">\\n                <svg class=\"tmpl_hh_head__logo\" viewBox=\"0 0 302.99 60.55\"><path d=\"M132.514 28.521c-5.188 2.402-7.817 7.321-7.817 14.603v.115c.037 10.905 5.719 16.588 16.74 16.588h12.773v-7.018h-11.67c-5.682 0-7.968-.535-8.12-5.982l19.79-.003V39.809h-19.79c.152-5.186 2.59-6.214 8.273-6.214h11.517v-6.753h-12.773c-3.549 0-6.521.576-8.923 1.679\"></path><path d=\"M115.546 40.989c5.871-1.41 8.92-5.564 8.998-12.468v-.229c0-9.379-4.957-13.571-15.52-13.571H85.691v45.106h9.379V42.02h11.094l.687 1.218 9.343 16.589h10.485l-9.798-16.589-1.335-2.249zm-8.808-6.862H95.07V22.879h11.668c5.415 0 8.273.84 8.312 5.642v.076c0 4.424-2.86 5.53-8.312 5.53\"></path><path d=\"M175.678 42.783l13.65-14.262 1.6-1.679h-11.169l-1.49 1.679-12.465 14.223V14.722h-8.811V59.827h8.811V43.85l13.42 15.977h11.704l-14.833-16.588\"></path><path d=\"M211.556 39.579h-7.777c-2.861 0-4.311-.876-4.311-3.011 0-2.821 2.134-2.973 6.062-2.973h15.52v-6.753h-18.873c-3.28 0-5.835.535-7.704 1.679-2.706 1.602-4.003 4.386-4.003 8.427 0 2.861.457 4.879 1.45 6.331 1.677 2.477 4.957 3.165 10.103 3.165h7.435c3.318 0 4.692.912 4.692 3.239 0 2.44-1.374 3.126-4.692 3.126h-18.417v7.018h22.65c5.033 0 8.998-4.195 8.998-10.41 0-2.555-.61-4.616-1.789-6.179-1.835-2.402-4.997-3.659-9.344-3.659\"></path><path d=\"M250.829 28.521c-2.591-1.412-5.72-2.174-9.305-2.174-3.697 0-6.901.762-9.53 2.174-5.188 2.709-8.12 7.893-8.12 14.602v.115c.035 10.333 6.746 17.312 17.65 17.312 10.603 0 17.237-6.979 17.276-17.312v-.115c0-6.709-2.901-11.893-7.971-14.602m-9.42 24.708c-5.108 0-8.461-3.509-8.5-9.991v-.115c0-6.252 3.356-9.876 8.5-9.876 5.074 0 8.391 3.624 8.391 9.876v.115c-.039 6.482-3.356 9.991-8.391 9.991\"></path><path fill=\"#EB2227\" d=\"M79.47 59.674H0L40.68 0\"></path><path fill=\"#221F20\" d=\"M.094 59.674l62.93-6.735 16.51 6.735\"></path><path d=\"M293.799 26.842V14.721h-8.805v12.121h-12.698v-2.664c0-2.29 1.333-3.013 4.195-3.013l4.079-.002v-6.442h-8.274c-7.131 0-8.92 1.906-8.92 8.77v3.351h-6.294V33.248h6.294v26.579h8.92V33.248h12.698v16.17c0 6.785 3.697 10.409 9.991 10.409h8.005v-6.598h-3.585c-4.42 0-5.606-1.982-5.606-6.749V33.248h9.191V26.842h-9.191z\"></path></svg>\\n            </div>\\n            \\n            <div class=\"tmpl_hh_content\">\\n                <p><strong>«Рексофт»</strong> — один из ведущих российских разработчиков программного обеспечения. Мы работаем в сфере ИТ-услуг с 1991 г. и за это время успели выполнить более 1000 проектов в области ИТ-консалтинга, проектирования, разработки, тестирования и поддержки ПО. Среди клиентов «Рексофта» крупнейшие международные и российские компании, такие как Федеральная Миграционная Служба России, «Сбербанк», ВТБ24, Промсвязьбанк, «Ростелеком», Tele2, FXDD, Philip Morris, Sicap, Swisscom Mobile, Tieto, StoraEnso, T-Systems и другие.<br>Головной офис «Рексофт» находится в Санкт-Петербурге. Также у компании есть филиалы в Москве, Воронеже и Ростове-на-Дону.<br><br>Мы приглашаем в свою команду <strong>бизнес - аналитика</strong> для реализации интересных и масштабных проектов, сотрудника, настроенного на лидерство, готового решать сложные задачи и постоянно совершенствовать свои профессиональные качества.</p> <p><strong>Обязанности:</strong></p> <ul> <li>Разработка технических заданий и спецификаций системных требований на основании бизнес-требований, описания бизнес-процессов и сценариев использования;</li> <li>Проработка интеграционного межсистемного/модульного взаимодействия;</li> <li>Написание постановок на системные сервисы и интеграционные компоненты;</li> <li>Проработка маппингов и трансформаций данных.</li> </ul> <p><strong>Требования:</strong></p> <ul> <li>Опыт работы бизнес - аналитиком в сфере разработки и поддержки ПО не менее 3 лет;</li> <li>Опыт проектирования межсистемного обмена;</li> <li>Знакомство с нотациями описания процессов (IDEF, BPMN 2.0, EPC, UML);</li> <li>Хорошее знание и понимание процессов разработки и тестирования ПО;</li> <li>Опыт и навыки взаимодействия с бизнес-аналитиками и разработчиками;</li> <li>Системное мышление и умение самостоятельно и последовательно разбираться в поставленных задачах.</li> </ul> <strong>Мы предлагаем:</strong> <ul> <li>Удалённое сотрудничество; </li> <li>Гибкий график работы;</li> <li>Возможность профессионального и карьерного роста, участие в конференциях;</li> <li>Официальное трудоустройство, достойную белую зарплату и соц. пакет в соответствии с ТК РФ;</li> <li>Полис ДМС, стопроцентная оплата больничных, страхование выезжающего за рубеж;</li> <li>Спортивные мероприятия и корпоративные праздники.</li> </ul></div>\\n            \\n            <div class=\"tmpl_hh_footer\">\\n                <img src=\"https://hhcdn.ru/ichameleon/83415.jpg\" alt=\"\">\\n            </div>\\n        </div>\\n',\n",
       " 'vacancy_constructor_template': None,\n",
       " 'key_skills': [{'name': 'UML'},\n",
       "  {'name': 'BPMN'},\n",
       "  {'name': 'EPC'},\n",
       "  {'name': 'IDEF'},\n",
       "  {'name': 'Системный анализ'},\n",
       "  {'name': 'Системная интеграция'}],\n",
       " 'accept_handicapped': False,\n",
       " 'accept_kids': False,\n",
       " 'archived': False,\n",
       " 'response_url': None,\n",
       " 'specializations': [{'id': '12.251',\n",
       "   'name': 'Реинжиниринг бизнес процессов',\n",
       "   'profarea_id': '12',\n",
       "   'profarea_name': 'Консультирование'},\n",
       "  {'id': '12.92',\n",
       "   'name': 'Информационные технологии',\n",
       "   'profarea_id': '12',\n",
       "   'profarea_name': 'Консультирование'},\n",
       "  {'id': '1.221',\n",
       "   'name': 'Программирование, Разработка',\n",
       "   'profarea_id': '1',\n",
       "   'profarea_name': 'Информационные технологии, интернет, телеком'},\n",
       "  {'id': '1.272',\n",
       "   'name': 'Системная интеграция',\n",
       "   'profarea_id': '1',\n",
       "   'profarea_name': 'Информационные технологии, интернет, телеком'}],\n",
       " 'code': None,\n",
       " 'hidden': False,\n",
       " 'quick_responses_allowed': False,\n",
       " 'driver_license_types': [],\n",
       " 'accept_incomplete_resumes': False,\n",
       " 'employer': {'id': '3984',\n",
       "  'name': 'Рексофт',\n",
       "  'url': 'https://api.hh.ru/employers/3984?host=hh.ru',\n",
       "  'alternate_url': 'https://hh.ru/employer/3984',\n",
       "  'logo_urls': {'240': 'https://hhcdn.ru/employer-logo/552078.jpeg',\n",
       "   '90': 'https://hhcdn.ru/employer-logo/552077.jpeg',\n",
       "   'original': 'https://hhcdn.ru/employer-logo-original/231708.JPG'},\n",
       "  'vacancies_url': 'https://api.hh.ru/vacancies?employer_id=3984&host=hh.ru',\n",
       "  'trusted': True},\n",
       " 'published_at': '2021-07-21T09:43:12+0300',\n",
       " 'created_at': '2021-07-21T09:43:12+0300',\n",
       " 'negotiations_url': None,\n",
       " 'suitable_resumes_url': None,\n",
       " 'apply_alternate_url': 'https://hh.ru/applicant/vacancy_response?vacancyId=46400329',\n",
       " 'has_test': False,\n",
       " 'test': None,\n",
       " 'alternate_url': 'https://hh.ru/vacancy/46400329',\n",
       " 'working_days': [],\n",
       " 'working_time_intervals': [],\n",
       " 'working_time_modes': [],\n",
       " 'accept_temporary': False}"
      ]
     },
     "execution_count": 23,
     "metadata": {},
     "output_type": "execute_result"
    }
   ],
   "source": [
    "data"
   ]
  },
  {
   "cell_type": "code",
   "execution_count": 25,
   "metadata": {
    "id": "z-JS_Ec9It0O"
   },
   "outputs": [],
   "source": [
    "with open(\"vacancies/45904637.json\", \"r\") as read_file:\n",
    "    data = json.load(read_file)"
   ]
  },
  {
   "cell_type": "code",
   "execution_count": 26,
   "metadata": {
    "colab": {
     "base_uri": "https://localhost:8080/"
    },
    "id": "w37K2h0JJSZ9",
    "outputId": "3baf78de-403d-41b2-de71-2e955420bca5"
   },
   "outputs": [],
   "source": [
    "data['address']"
   ]
  },
  {
   "cell_type": "code",
   "execution_count": 27,
   "metadata": {
    "colab": {
     "base_uri": "https://localhost:8080/",
     "height": 137
    },
    "id": "dwBzMUc6JTYq",
    "outputId": "27d02527-d982-4fc6-a2b0-e10f4977e8bf"
   },
   "outputs": [
    {
     "data": {
      "text/plain": [
       "'<p>Мы ищем исполнительного и внимательного системного аналитика на удаленную работу под проекты аутсорсинга разработки. Почасовая оплата.</p> <p>Основные направления проектов: ERP/BI/CRM и т.д. решения, стартапы.</p> <p><strong>Инфраструктура компании:</strong></p> <ul> <li>Confluence - вся документация проекта ведется</li> <li>Jira - постановка задач + учет времени</li> <li>GitLab - CI/CD настроены</li> <li>Discord - виртуальный офис для голосовой коммуникации</li> <li>Telegram - проектные каналы для переписки</li> </ul> <p>Работаем по &quot;неполному&quot; SCRUM с элементами PMI. Пока не внедрены, но планируем: работу по спринтам (сейчас календарный план проекта), story points (пока в часах оценка).</p> <p><strong>Задачи системного аналитика:</strong></p> <ul> <li>Сбор данных и анализ достаточности и качества поступающей от Заказчика информации</li> <li>Декомпозиция бизнес требований до уровня функциональных</li> <li>Описание инфраструктуры системы (логической) и подготовка спецификаций обменов</li> <li>Описание диаграмм в UML (последовательностей, компонентов, активностей, ER и т.д.)</li> <li>Постановка задач на разработку и функциональная приемка</li> <li>Оценка трудоемкости задач и технических рисков</li> <li>Подготовка методики проведения приемо-сдаточных испытаний</li> <li>Проектирование архитектуры хранения документации и поддержания документации проектов</li> </ul> <p><strong>От системного аналитика ожидаем:</strong></p> <ul> <li>Умение оценить возможные трудозатраты на разработку задачи</li> <li>Умение выстраивать собственный эффективный график работы</li> <li>Умение задавать вопросы, если необходима дополнительная информация</li> <li>Умение выполнять поставленные задачи в согласованные сроки</li> <li>Умение писать грамотные и структурированные документы</li> <li>Готовность переключаться между проектами и учиться новому</li> </ul> <p><strong>Необходимые навыки:</strong></p> <ul> <li>Знание нотаций UML и BPMN. Опыт использования PlantUML</li> <li>Общие знания ООП и понимание всех этапов разработки</li> <li>Опыт работы с инструментами командной разработки и документирования (Jira + Confluence)</li> <li>Опыт работы с инструментами визуального прототипирования/описания (Draw.io, Axure, Enterprise Architect, Visual Paradigm и т.п.)</li> <li>Опыт формирования SQL запросов</li> </ul> <p><strong>Условия сотрудничества:</strong></p> <ul> <li>Работа полностью удаленная</li> <li><strong>Оплата почасовая</strong></li> <li>Возможно определение минимального объема выкупа в месяц</li> <li>Возможен пересмотр условий по инициативе компании или исполнителя - снижение загрузки, длительный отпуск и т.д. (мы гибко подходим к определению загрузки)</li> <li><strong>Ставка от 600 до 1200 рублей в час</strong></li> <li>600 - для системных аналитиков, способных самостоятельно провести анализ задачи</li> <li>1200 - для системных аналитиков, способных управлять командой аналитики и развивать методологию системного анализа в компании</li> <li>1200+ - для специалистов более высокого уровня (синьоры, архитекторы, тимлиды)</li> <li>Оплата 1 или 2 раза в месяц:</li> <li>Возможна предоплата месяца, но после испытательного срока и понимания что мы подходим друг другу</li> <li>Ставка может расти по мере роста компетенций</li> <li>Возможны дополнительные премии за эффективные решения и предложения</li> <li>Свободный график (оценка результатов работ)</li> <li>Потенциал роста компетенций</li> </ul> <p>Дополнительные инструкции</p> <p>Мы рассматриваем кандидатов преимущественно по soft skills (предполагая, что hard skills в наличии). Кандидат претендующий на вакансию должен описать:</p> <ul> <li>Свои ожидания по графику работы и заработку</li> <li>Свои амбиции по развитию и какие инструменты мотивации работают с вами лучше всего</li> <li>Свои ожидания от коллектива, проектов, процессов и прочее - что вам необходимо для комфортной работы</li> <li>Примеры проектов (удачных/не удачных)</li> </ul>'"
      ]
     },
     "execution_count": 27,
     "metadata": {},
     "output_type": "execute_result"
    }
   ],
   "source": [
    "data['description']"
   ]
  },
  {
   "cell_type": "code",
   "execution_count": 28,
   "metadata": {
    "colab": {
     "base_uri": "https://localhost:8080/",
     "height": 185
    },
    "id": "sZ0GwcjsYUX3",
    "outputId": "50084815-df70-4c36-852a-b07bd30b988e"
   },
   "outputs": [
    {
     "data": {
      "text/html": [
       "<div>\n",
       "<style scoped>\n",
       "    .dataframe tbody tr th:only-of-type {\n",
       "        vertical-align: middle;\n",
       "    }\n",
       "\n",
       "    .dataframe tbody tr th {\n",
       "        vertical-align: top;\n",
       "    }\n",
       "\n",
       "    .dataframe thead th {\n",
       "        text-align: right;\n",
       "    }\n",
       "</style>\n",
       "<table border=\"1\" class=\"dataframe\">\n",
       "  <thead>\n",
       "    <tr style=\"text-align: right;\">\n",
       "      <th></th>\n",
       "      <th>id</th>\n",
       "      <th>premium</th>\n",
       "      <th>relations</th>\n",
       "      <th>name</th>\n",
       "      <th>insider_interview</th>\n",
       "      <th>response_letter_required</th>\n",
       "      <th>address</th>\n",
       "      <th>allow_messages</th>\n",
       "      <th>department</th>\n",
       "      <th>contacts</th>\n",
       "      <th>...</th>\n",
       "      <th>schedule.name</th>\n",
       "      <th>employment.id</th>\n",
       "      <th>employment.name</th>\n",
       "      <th>employer.id</th>\n",
       "      <th>employer.name</th>\n",
       "      <th>employer.url</th>\n",
       "      <th>employer.alternate_url</th>\n",
       "      <th>employer.logo_urls</th>\n",
       "      <th>employer.vacancies_url</th>\n",
       "      <th>employer.trusted</th>\n",
       "    </tr>\n",
       "  </thead>\n",
       "  <tbody>\n",
       "    <tr>\n",
       "      <th>0</th>\n",
       "      <td>45904637</td>\n",
       "      <td>False</td>\n",
       "      <td>[]</td>\n",
       "      <td>Системный аналитик (System Analyst)</td>\n",
       "      <td>None</td>\n",
       "      <td>False</td>\n",
       "      <td>None</td>\n",
       "      <td>True</td>\n",
       "      <td>None</td>\n",
       "      <td>None</td>\n",
       "      <td>...</td>\n",
       "      <td>Удаленная работа</td>\n",
       "      <td>full</td>\n",
       "      <td>Полная занятость</td>\n",
       "      <td>5457898</td>\n",
       "      <td>HS Systems</td>\n",
       "      <td>https://api.hh.ru/employers/5457898?host=hh.ru</td>\n",
       "      <td>https://hh.ru/employer/5457898</td>\n",
       "      <td>None</td>\n",
       "      <td>https://api.hh.ru/vacancies?employer_id=545789...</td>\n",
       "      <td>False</td>\n",
       "    </tr>\n",
       "  </tbody>\n",
       "</table>\n",
       "<p>1 rows × 62 columns</p>\n",
       "</div>"
      ],
      "text/plain": [
       "         id  premium relations                                 name  \\\n",
       "0  45904637    False        []  Системный аналитик (System Analyst)   \n",
       "\n",
       "  insider_interview  response_letter_required address  allow_messages  \\\n",
       "0              None                     False    None            True   \n",
       "\n",
       "  department contacts  ...     schedule.name employment.id   employment.name  \\\n",
       "0       None     None  ...  Удаленная работа          full  Полная занятость   \n",
       "\n",
       "  employer.id  employer.name                                    employer.url  \\\n",
       "0     5457898     HS Systems  https://api.hh.ru/employers/5457898?host=hh.ru   \n",
       "\n",
       "           employer.alternate_url employer.logo_urls  \\\n",
       "0  https://hh.ru/employer/5457898               None   \n",
       "\n",
       "                              employer.vacancies_url employer.trusted  \n",
       "0  https://api.hh.ru/vacancies?employer_id=545789...            False  \n",
       "\n",
       "[1 rows x 62 columns]"
      ]
     },
     "execution_count": 28,
     "metadata": {},
     "output_type": "execute_result"
    }
   ],
   "source": [
    "pd.json_normalize(data)"
   ]
  },
  {
   "cell_type": "code",
   "execution_count": 29,
   "metadata": {
    "id": "GDnN1EqZXTPt"
   },
   "outputs": [],
   "source": [
    "df = pd.json_normalize(data)"
   ]
  },
  {
   "cell_type": "code",
   "execution_count": 30,
   "metadata": {
    "colab": {
     "base_uri": "https://localhost:8080/"
    },
    "id": "WDsTkcdPXvQW",
    "outputId": "37903c19-376c-4514-f633-6fa5274a2d7e"
   },
   "outputs": [
    {
     "data": {
      "text/plain": [
       "(1, 62)"
      ]
     },
     "execution_count": 30,
     "metadata": {},
     "output_type": "execute_result"
    }
   ],
   "source": [
    "df.shape"
   ]
  },
  {
   "cell_type": "code",
   "execution_count": 6,
   "metadata": {
    "colab": {
     "base_uri": "https://localhost:8080/"
    },
    "id": "ve1MKR8CX0kp",
    "outputId": "57631aee-0186-4805-9e42-e1953d97f850"
   },
   "outputs": [],
   "source": [
    "df = pd.DataFrame()\n",
    "for file in os.listdir('vacancies'):\n",
    "    if file[-4:] == 'json':\n",
    "        filename = 'vacancies/' + file\n",
    "        with open(filename, \"r\") as read_file:\n",
    "            data = json.load(read_file)\n",
    "            sub_df = pd.json_normalize(data)\n",
    "            df = df.append(sub_df,ignore_index=True)\n",
    "            \n",
    "      \n",
    "\n",
    "    "
   ]
  },
  {
   "cell_type": "code",
   "execution_count": 7,
   "metadata": {
    "colab": {
     "base_uri": "https://localhost:8080/",
     "height": 694
    },
    "id": "UiN11SZCJm21",
    "outputId": "109bd353-1a4c-4f66-fd05-0cb6e931f6e4"
   },
   "outputs": [
    {
     "data": {
      "text/html": [
       "<div>\n",
       "<style scoped>\n",
       "    .dataframe tbody tr th:only-of-type {\n",
       "        vertical-align: middle;\n",
       "    }\n",
       "\n",
       "    .dataframe tbody tr th {\n",
       "        vertical-align: top;\n",
       "    }\n",
       "\n",
       "    .dataframe thead th {\n",
       "        text-align: right;\n",
       "    }\n",
       "</style>\n",
       "<table border=\"1\" class=\"dataframe\">\n",
       "  <thead>\n",
       "    <tr style=\"text-align: right;\">\n",
       "      <th></th>\n",
       "      <th>id</th>\n",
       "      <th>premium</th>\n",
       "      <th>relations</th>\n",
       "      <th>name</th>\n",
       "      <th>insider_interview</th>\n",
       "      <th>response_letter_required</th>\n",
       "      <th>salary</th>\n",
       "      <th>allow_messages</th>\n",
       "      <th>department</th>\n",
       "      <th>contacts</th>\n",
       "      <th>...</th>\n",
       "      <th>vacancy_constructor_template.top_picture.width</th>\n",
       "      <th>vacancy_constructor_template.top_picture.path</th>\n",
       "      <th>vacancy_constructor_template.top_picture.blurred_path</th>\n",
       "      <th>vacancy_constructor_template.bottom_picture.height</th>\n",
       "      <th>vacancy_constructor_template.bottom_picture.width</th>\n",
       "      <th>vacancy_constructor_template.bottom_picture.path</th>\n",
       "      <th>vacancy_constructor_template.bottom_picture.blurred_path</th>\n",
       "      <th>vacancy_constructor_template.bottom_picture</th>\n",
       "      <th>insider_interview.id</th>\n",
       "      <th>insider_interview.url</th>\n",
       "    </tr>\n",
       "  </thead>\n",
       "  <tbody>\n",
       "    <tr>\n",
       "      <th>0</th>\n",
       "      <td>46125607</td>\n",
       "      <td>False</td>\n",
       "      <td>[]</td>\n",
       "      <td>Аналитик (middle)</td>\n",
       "      <td>None</td>\n",
       "      <td>False</td>\n",
       "      <td>None</td>\n",
       "      <td>True</td>\n",
       "      <td>None</td>\n",
       "      <td>None</td>\n",
       "      <td>...</td>\n",
       "      <td>NaN</td>\n",
       "      <td>NaN</td>\n",
       "      <td>NaN</td>\n",
       "      <td>NaN</td>\n",
       "      <td>NaN</td>\n",
       "      <td>NaN</td>\n",
       "      <td>NaN</td>\n",
       "      <td>NaN</td>\n",
       "      <td>NaN</td>\n",
       "      <td>NaN</td>\n",
       "    </tr>\n",
       "    <tr>\n",
       "      <th>1</th>\n",
       "      <td>46555691</td>\n",
       "      <td>False</td>\n",
       "      <td>[]</td>\n",
       "      <td>Аналитик</td>\n",
       "      <td>None</td>\n",
       "      <td>False</td>\n",
       "      <td>None</td>\n",
       "      <td>True</td>\n",
       "      <td>NaN</td>\n",
       "      <td>None</td>\n",
       "      <td>...</td>\n",
       "      <td>NaN</td>\n",
       "      <td>NaN</td>\n",
       "      <td>NaN</td>\n",
       "      <td>NaN</td>\n",
       "      <td>NaN</td>\n",
       "      <td>NaN</td>\n",
       "      <td>NaN</td>\n",
       "      <td>NaN</td>\n",
       "      <td>NaN</td>\n",
       "      <td>NaN</td>\n",
       "    </tr>\n",
       "    <tr>\n",
       "      <th>2</th>\n",
       "      <td>46391210</td>\n",
       "      <td>False</td>\n",
       "      <td>[]</td>\n",
       "      <td>Стажер-аналитик</td>\n",
       "      <td>None</td>\n",
       "      <td>False</td>\n",
       "      <td>None</td>\n",
       "      <td>True</td>\n",
       "      <td>None</td>\n",
       "      <td>None</td>\n",
       "      <td>...</td>\n",
       "      <td>NaN</td>\n",
       "      <td>NaN</td>\n",
       "      <td>NaN</td>\n",
       "      <td>NaN</td>\n",
       "      <td>NaN</td>\n",
       "      <td>NaN</td>\n",
       "      <td>NaN</td>\n",
       "      <td>NaN</td>\n",
       "      <td>NaN</td>\n",
       "      <td>NaN</td>\n",
       "    </tr>\n",
       "    <tr>\n",
       "      <th>3</th>\n",
       "      <td>45827240</td>\n",
       "      <td>False</td>\n",
       "      <td>[]</td>\n",
       "      <td>Маркетолог-аналитик</td>\n",
       "      <td>None</td>\n",
       "      <td>False</td>\n",
       "      <td>None</td>\n",
       "      <td>True</td>\n",
       "      <td>None</td>\n",
       "      <td>None</td>\n",
       "      <td>...</td>\n",
       "      <td>NaN</td>\n",
       "      <td>NaN</td>\n",
       "      <td>NaN</td>\n",
       "      <td>NaN</td>\n",
       "      <td>NaN</td>\n",
       "      <td>NaN</td>\n",
       "      <td>NaN</td>\n",
       "      <td>NaN</td>\n",
       "      <td>NaN</td>\n",
       "      <td>NaN</td>\n",
       "    </tr>\n",
       "    <tr>\n",
       "      <th>4</th>\n",
       "      <td>45416223</td>\n",
       "      <td>False</td>\n",
       "      <td>[]</td>\n",
       "      <td>Аналитик рисков</td>\n",
       "      <td>None</td>\n",
       "      <td>False</td>\n",
       "      <td>None</td>\n",
       "      <td>True</td>\n",
       "      <td>None</td>\n",
       "      <td>None</td>\n",
       "      <td>...</td>\n",
       "      <td>NaN</td>\n",
       "      <td>NaN</td>\n",
       "      <td>NaN</td>\n",
       "      <td>NaN</td>\n",
       "      <td>NaN</td>\n",
       "      <td>NaN</td>\n",
       "      <td>NaN</td>\n",
       "      <td>NaN</td>\n",
       "      <td>NaN</td>\n",
       "      <td>NaN</td>\n",
       "    </tr>\n",
       "    <tr>\n",
       "      <th>...</th>\n",
       "      <td>...</td>\n",
       "      <td>...</td>\n",
       "      <td>...</td>\n",
       "      <td>...</td>\n",
       "      <td>...</td>\n",
       "      <td>...</td>\n",
       "      <td>...</td>\n",
       "      <td>...</td>\n",
       "      <td>...</td>\n",
       "      <td>...</td>\n",
       "      <td>...</td>\n",
       "      <td>...</td>\n",
       "      <td>...</td>\n",
       "      <td>...</td>\n",
       "      <td>...</td>\n",
       "      <td>...</td>\n",
       "      <td>...</td>\n",
       "      <td>...</td>\n",
       "      <td>...</td>\n",
       "      <td>...</td>\n",
       "      <td>...</td>\n",
       "    </tr>\n",
       "    <tr>\n",
       "      <th>698</th>\n",
       "      <td>46380300</td>\n",
       "      <td>False</td>\n",
       "      <td>[]</td>\n",
       "      <td>Аналитик бизнес-процессов</td>\n",
       "      <td>None</td>\n",
       "      <td>False</td>\n",
       "      <td>None</td>\n",
       "      <td>True</td>\n",
       "      <td>None</td>\n",
       "      <td>None</td>\n",
       "      <td>...</td>\n",
       "      <td>NaN</td>\n",
       "      <td>NaN</td>\n",
       "      <td>NaN</td>\n",
       "      <td>NaN</td>\n",
       "      <td>NaN</td>\n",
       "      <td>NaN</td>\n",
       "      <td>NaN</td>\n",
       "      <td>NaN</td>\n",
       "      <td>NaN</td>\n",
       "      <td>NaN</td>\n",
       "    </tr>\n",
       "    <tr>\n",
       "      <th>699</th>\n",
       "      <td>46435236</td>\n",
       "      <td>False</td>\n",
       "      <td>[]</td>\n",
       "      <td>Аналитик данных (по оценке доходности клиента)</td>\n",
       "      <td>None</td>\n",
       "      <td>False</td>\n",
       "      <td>None</td>\n",
       "      <td>True</td>\n",
       "      <td>None</td>\n",
       "      <td>None</td>\n",
       "      <td>...</td>\n",
       "      <td>NaN</td>\n",
       "      <td>NaN</td>\n",
       "      <td>NaN</td>\n",
       "      <td>NaN</td>\n",
       "      <td>NaN</td>\n",
       "      <td>NaN</td>\n",
       "      <td>NaN</td>\n",
       "      <td>NaN</td>\n",
       "      <td>NaN</td>\n",
       "      <td>NaN</td>\n",
       "    </tr>\n",
       "    <tr>\n",
       "      <th>700</th>\n",
       "      <td>44649302</td>\n",
       "      <td>False</td>\n",
       "      <td>[]</td>\n",
       "      <td>Web-аналитик</td>\n",
       "      <td>None</td>\n",
       "      <td>False</td>\n",
       "      <td>NaN</td>\n",
       "      <td>True</td>\n",
       "      <td>None</td>\n",
       "      <td>None</td>\n",
       "      <td>...</td>\n",
       "      <td>1400.0</td>\n",
       "      <td>https://hhcdn.ru/branding-pictures/263035.jpeg</td>\n",
       "      <td>https://hhcdn.ru/branding-pictures-blurred/263...</td>\n",
       "      <td>352.0</td>\n",
       "      <td>770.0</td>\n",
       "      <td>https://hhcdn.ru/branding-pictures/263049.jpeg</td>\n",
       "      <td>https://hhcdn.ru/branding-pictures-blurred/263...</td>\n",
       "      <td>NaN</td>\n",
       "      <td>NaN</td>\n",
       "      <td>NaN</td>\n",
       "    </tr>\n",
       "    <tr>\n",
       "      <th>701</th>\n",
       "      <td>46524483</td>\n",
       "      <td>False</td>\n",
       "      <td>[]</td>\n",
       "      <td>Аналитик</td>\n",
       "      <td>None</td>\n",
       "      <td>False</td>\n",
       "      <td>None</td>\n",
       "      <td>True</td>\n",
       "      <td>None</td>\n",
       "      <td>None</td>\n",
       "      <td>...</td>\n",
       "      <td>NaN</td>\n",
       "      <td>NaN</td>\n",
       "      <td>NaN</td>\n",
       "      <td>NaN</td>\n",
       "      <td>NaN</td>\n",
       "      <td>NaN</td>\n",
       "      <td>NaN</td>\n",
       "      <td>NaN</td>\n",
       "      <td>NaN</td>\n",
       "      <td>NaN</td>\n",
       "    </tr>\n",
       "    <tr>\n",
       "      <th>702</th>\n",
       "      <td>46047858</td>\n",
       "      <td>False</td>\n",
       "      <td>[]</td>\n",
       "      <td>Аналитик по работе с данными</td>\n",
       "      <td>None</td>\n",
       "      <td>False</td>\n",
       "      <td>None</td>\n",
       "      <td>True</td>\n",
       "      <td>None</td>\n",
       "      <td>None</td>\n",
       "      <td>...</td>\n",
       "      <td>NaN</td>\n",
       "      <td>NaN</td>\n",
       "      <td>NaN</td>\n",
       "      <td>NaN</td>\n",
       "      <td>NaN</td>\n",
       "      <td>NaN</td>\n",
       "      <td>NaN</td>\n",
       "      <td>NaN</td>\n",
       "      <td>NaN</td>\n",
       "      <td>NaN</td>\n",
       "    </tr>\n",
       "  </tbody>\n",
       "</table>\n",
       "<p>703 rows × 97 columns</p>\n",
       "</div>"
      ],
      "text/plain": [
       "           id  premium relations  \\\n",
       "0    46125607    False        []   \n",
       "1    46555691    False        []   \n",
       "2    46391210    False        []   \n",
       "3    45827240    False        []   \n",
       "4    45416223    False        []   \n",
       "..        ...      ...       ...   \n",
       "698  46380300    False        []   \n",
       "699  46435236    False        []   \n",
       "700  44649302    False        []   \n",
       "701  46524483    False        []   \n",
       "702  46047858    False        []   \n",
       "\n",
       "                                               name insider_interview  \\\n",
       "0                                 Аналитик (middle)              None   \n",
       "1                                          Аналитик              None   \n",
       "2                                   Стажер-аналитик              None   \n",
       "3                               Маркетолог-аналитик              None   \n",
       "4                                   Аналитик рисков              None   \n",
       "..                                              ...               ...   \n",
       "698                       Аналитик бизнес-процессов              None   \n",
       "699  Аналитик данных (по оценке доходности клиента)              None   \n",
       "700                                    Web-аналитик              None   \n",
       "701                                        Аналитик              None   \n",
       "702                    Аналитик по работе с данными              None   \n",
       "\n",
       "     response_letter_required salary  allow_messages department contacts  ...  \\\n",
       "0                       False   None            True       None     None  ...   \n",
       "1                       False   None            True        NaN     None  ...   \n",
       "2                       False   None            True       None     None  ...   \n",
       "3                       False   None            True       None     None  ...   \n",
       "4                       False   None            True       None     None  ...   \n",
       "..                        ...    ...             ...        ...      ...  ...   \n",
       "698                     False   None            True       None     None  ...   \n",
       "699                     False   None            True       None     None  ...   \n",
       "700                     False    NaN            True       None     None  ...   \n",
       "701                     False   None            True       None     None  ...   \n",
       "702                     False   None            True       None     None  ...   \n",
       "\n",
       "    vacancy_constructor_template.top_picture.width  \\\n",
       "0                                              NaN   \n",
       "1                                              NaN   \n",
       "2                                              NaN   \n",
       "3                                              NaN   \n",
       "4                                              NaN   \n",
       "..                                             ...   \n",
       "698                                            NaN   \n",
       "699                                            NaN   \n",
       "700                                         1400.0   \n",
       "701                                            NaN   \n",
       "702                                            NaN   \n",
       "\n",
       "      vacancy_constructor_template.top_picture.path  \\\n",
       "0                                               NaN   \n",
       "1                                               NaN   \n",
       "2                                               NaN   \n",
       "3                                               NaN   \n",
       "4                                               NaN   \n",
       "..                                              ...   \n",
       "698                                             NaN   \n",
       "699                                             NaN   \n",
       "700  https://hhcdn.ru/branding-pictures/263035.jpeg   \n",
       "701                                             NaN   \n",
       "702                                             NaN   \n",
       "\n",
       "    vacancy_constructor_template.top_picture.blurred_path  \\\n",
       "0                                                  NaN      \n",
       "1                                                  NaN      \n",
       "2                                                  NaN      \n",
       "3                                                  NaN      \n",
       "4                                                  NaN      \n",
       "..                                                 ...      \n",
       "698                                                NaN      \n",
       "699                                                NaN      \n",
       "700  https://hhcdn.ru/branding-pictures-blurred/263...      \n",
       "701                                                NaN      \n",
       "702                                                NaN      \n",
       "\n",
       "    vacancy_constructor_template.bottom_picture.height  \\\n",
       "0                                                  NaN   \n",
       "1                                                  NaN   \n",
       "2                                                  NaN   \n",
       "3                                                  NaN   \n",
       "4                                                  NaN   \n",
       "..                                                 ...   \n",
       "698                                                NaN   \n",
       "699                                                NaN   \n",
       "700                                              352.0   \n",
       "701                                                NaN   \n",
       "702                                                NaN   \n",
       "\n",
       "     vacancy_constructor_template.bottom_picture.width  \\\n",
       "0                                                  NaN   \n",
       "1                                                  NaN   \n",
       "2                                                  NaN   \n",
       "3                                                  NaN   \n",
       "4                                                  NaN   \n",
       "..                                                 ...   \n",
       "698                                                NaN   \n",
       "699                                                NaN   \n",
       "700                                              770.0   \n",
       "701                                                NaN   \n",
       "702                                                NaN   \n",
       "\n",
       "     vacancy_constructor_template.bottom_picture.path  \\\n",
       "0                                                 NaN   \n",
       "1                                                 NaN   \n",
       "2                                                 NaN   \n",
       "3                                                 NaN   \n",
       "4                                                 NaN   \n",
       "..                                                ...   \n",
       "698                                               NaN   \n",
       "699                                               NaN   \n",
       "700    https://hhcdn.ru/branding-pictures/263049.jpeg   \n",
       "701                                               NaN   \n",
       "702                                               NaN   \n",
       "\n",
       "     vacancy_constructor_template.bottom_picture.blurred_path  \\\n",
       "0                                                  NaN          \n",
       "1                                                  NaN          \n",
       "2                                                  NaN          \n",
       "3                                                  NaN          \n",
       "4                                                  NaN          \n",
       "..                                                 ...          \n",
       "698                                                NaN          \n",
       "699                                                NaN          \n",
       "700  https://hhcdn.ru/branding-pictures-blurred/263...          \n",
       "701                                                NaN          \n",
       "702                                                NaN          \n",
       "\n",
       "    vacancy_constructor_template.bottom_picture insider_interview.id  \\\n",
       "0                                           NaN                  NaN   \n",
       "1                                           NaN                  NaN   \n",
       "2                                           NaN                  NaN   \n",
       "3                                           NaN                  NaN   \n",
       "4                                           NaN                  NaN   \n",
       "..                                          ...                  ...   \n",
       "698                                         NaN                  NaN   \n",
       "699                                         NaN                  NaN   \n",
       "700                                         NaN                  NaN   \n",
       "701                                         NaN                  NaN   \n",
       "702                                         NaN                  NaN   \n",
       "\n",
       "    insider_interview.url  \n",
       "0                     NaN  \n",
       "1                     NaN  \n",
       "2                     NaN  \n",
       "3                     NaN  \n",
       "4                     NaN  \n",
       "..                    ...  \n",
       "698                   NaN  \n",
       "699                   NaN  \n",
       "700                   NaN  \n",
       "701                   NaN  \n",
       "702                   NaN  \n",
       "\n",
       "[703 rows x 97 columns]"
      ]
     },
     "execution_count": 7,
     "metadata": {},
     "output_type": "execute_result"
    }
   ],
   "source": [
    "df"
   ]
  },
  {
   "cell_type": "code",
   "execution_count": 8,
   "metadata": {
    "id": "_LaRr2kDNN54"
   },
   "outputs": [],
   "source": [
    "df['description'] = df['description'].apply(strip_tags)"
   ]
  },
  {
   "cell_type": "code",
   "execution_count": 9,
   "metadata": {
    "colab": {
     "base_uri": "https://localhost:8080/",
     "height": 677
    },
    "id": "E7_rNftjc_Oh",
    "outputId": "4328bf0a-b6a4-4111-f865-aecefab19dae"
   },
   "outputs": [
    {
     "data": {
      "text/plain": [
       "0      Привет! Мы ищем аналитика на один из проектов ...\n",
       "1      Лидер приглашает лучших!   Вас ожидают следующ...\n",
       "2      Примени свои знания и прокачай навыки для созд...\n",
       "3      Обязанности:  Проведение сегментации клиентско...\n",
       "4      Мы создаем и развиваем высокотехнологичный онл...\n",
       "                             ...                        \n",
       "698    В команду автоматизации каналов привлечения мы...\n",
       "699    Обязанности:  полный цикл аналитической работы...\n",
       "700    Мы - крупная и активно развивающаяся омниканал...\n",
       "701    LEOMAX — лидер рынка телевизионной торговли Ро...\n",
       "702    Департамент информационных технологий города М...\n",
       "Name: description, Length: 703, dtype: object"
      ]
     },
     "execution_count": 9,
     "metadata": {},
     "output_type": "execute_result"
    }
   ],
   "source": [
    "df['description']"
   ]
  },
  {
   "cell_type": "code",
   "execution_count": 10,
   "metadata": {
    "colab": {
     "base_uri": "https://localhost:8080/"
    },
    "id": "FtKAS8Zuc_SY",
    "outputId": "535d2c00-e9fd-4111-bf2c-2c05d10a2d6d"
   },
   "outputs": [
    {
     "data": {
      "text/plain": [
       "[{'name': 'Работа в команде'}, {'name': 'Проектная документация'}]"
      ]
     },
     "execution_count": 10,
     "metadata": {},
     "output_type": "execute_result"
    }
   ],
   "source": [
    "df['key_skills'][0]"
   ]
  },
  {
   "cell_type": "code",
   "execution_count": 11,
   "metadata": {
    "colab": {
     "base_uri": "https://localhost:8080/"
    },
    "id": "TAJ2vbEtc_V6",
    "outputId": "b4318e8d-cb71-444b-a64c-def72aae95cd"
   },
   "outputs": [
    {
     "data": {
      "text/plain": [
       "['Работа в команде', 'Проектная документация']"
      ]
     },
     "execution_count": 11,
     "metadata": {},
     "output_type": "execute_result"
    }
   ],
   "source": [
    "[d['name'] for d in df['key_skills'][0]]"
   ]
  },
  {
   "cell_type": "code",
   "execution_count": 12,
   "metadata": {
    "colab": {
     "base_uri": "https://localhost:8080/"
    },
    "id": "JnT83w0-c_ZL",
    "outputId": "15305136-60c6-4f50-d673-ad9a8f541655"
   },
   "outputs": [
    {
     "name": "stderr",
     "output_type": "stream",
     "text": [
      "<ipython-input-12-de968b8e5da3>:2: SettingWithCopyWarning: \n",
      "A value is trying to be set on a copy of a slice from a DataFrame\n",
      "\n",
      "See the caveats in the documentation: https://pandas.pydata.org/pandas-docs/stable/user_guide/indexing.html#returning-a-view-versus-a-copy\n",
      "  df['key_skills'][i] = [d['name'] for d in df['key_skills'][i]]\n"
     ]
    }
   ],
   "source": [
    "for i in range(len(df)):\n",
    "    df['key_skills'][i] = [d['name'] for d in df['key_skills'][i]]"
   ]
  },
  {
   "cell_type": "code",
   "execution_count": 13,
   "metadata": {
    "colab": {
     "base_uri": "https://localhost:8080/"
    },
    "id": "YkMdti-cjXV0",
    "outputId": "3ef7f7fb-107f-4168-95ba-70ecca782392"
   },
   "outputs": [
    {
     "data": {
      "text/plain": [
       "(703, 97)"
      ]
     },
     "execution_count": 13,
     "metadata": {},
     "output_type": "execute_result"
    }
   ],
   "source": [
    "df.shape"
   ]
  },
  {
   "cell_type": "code",
   "execution_count": 14,
   "metadata": {
    "colab": {
     "base_uri": "https://localhost:8080/",
     "height": 677
    },
    "id": "-mNBQMYIggLR",
    "outputId": "864b2e69-7336-41cd-a10c-ba9408e2ec76"
   },
   "outputs": [
    {
     "data": {
      "text/plain": [
       "0             [Работа в команде, Проектная документация]\n",
       "1                                                     []\n",
       "2                                                     []\n",
       "3      [Маркетинговые исследования, Проведение презен...\n",
       "4      [SQL, Power BI, MS Access, Business intelligen...\n",
       "                             ...                        \n",
       "698    [Аналитическое мышление, Бизнес-анализ, Делова...\n",
       "699                                                [SQL]\n",
       "700    [Google Analytics, Интернет-реклама, SQL, Янде...\n",
       "701    [Аналитическое мышление, Работа в Excel, Анали...\n",
       "702    [MS PowerPoint, Python, Подготовка презентаций...\n",
       "Name: key_skills, Length: 703, dtype: object"
      ]
     },
     "execution_count": 14,
     "metadata": {},
     "output_type": "execute_result"
    }
   ],
   "source": [
    "df['key_skills']"
   ]
  },
  {
   "cell_type": "code",
   "execution_count": 15,
   "metadata": {
    "id": "CZg-Vc1ckO8C"
   },
   "outputs": [],
   "source": [
    "df_copy = df.copy()\n"
   ]
  },
  {
   "cell_type": "code",
   "execution_count": 16,
   "metadata": {
    "colab": {
     "base_uri": "https://localhost:8080/"
    },
    "id": "sY_Vv9CTlMwW",
    "outputId": "3cba6177-ba4c-49c5-e9fe-2eb79a7c45eb"
   },
   "outputs": [
    {
     "data": {
      "text/plain": [
       "[{'id': '1.25',\n",
       "  'name': 'Аналитик',\n",
       "  'profarea_id': '1',\n",
       "  'profarea_name': 'Информационные технологии, интернет, телеком'}]"
      ]
     },
     "execution_count": 16,
     "metadata": {},
     "output_type": "execute_result"
    }
   ],
   "source": [
    "df_copy['specializations'][0]"
   ]
  },
  {
   "cell_type": "code",
   "execution_count": 17,
   "metadata": {
    "colab": {
     "base_uri": "https://localhost:8080/"
    },
    "id": "VGEPoFObiXAJ",
    "outputId": "5af23bb7-cbae-4d43-bc2c-3fb492525fca"
   },
   "outputs": [
    {
     "data": {
      "text/plain": [
       "[{'id': '1.25',\n",
       "  'name': 'Аналитик',\n",
       "  'profarea_id': '1',\n",
       "  'profarea_name': 'Информационные технологии, интернет, телеком'}]"
      ]
     },
     "execution_count": 17,
     "metadata": {},
     "output_type": "execute_result"
    }
   ],
   "source": [
    "df['specializations'][0]"
   ]
  },
  {
   "cell_type": "code",
   "execution_count": 47,
   "metadata": {
    "colab": {
     "base_uri": "https://localhost:8080/"
    },
    "id": "aGYWDvbvgjBe",
    "outputId": "8a1b85c7-b26b-4bb7-e938-16c0bb6f727b"
   },
   "outputs": [
    {
     "data": {
      "text/plain": [
       "[['Аналитик', 'Информационные технологии, интернет, телеком']]"
      ]
     },
     "execution_count": 47,
     "metadata": {},
     "output_type": "execute_result"
    }
   ],
   "source": [
    "[[d['name'],d['profarea_name']] for d in df['specializations'][0]]"
   ]
  },
  {
   "cell_type": "code",
   "execution_count": 18,
   "metadata": {
    "colab": {
     "base_uri": "https://localhost:8080/"
    },
    "id": "3T090diZhp62",
    "outputId": "02c1748b-2d84-42b7-d9e2-4e27172fd613"
   },
   "outputs": [
    {
     "name": "stderr",
     "output_type": "stream",
     "text": [
      "<ipython-input-18-cab69270669f>:3: SettingWithCopyWarning: \n",
      "A value is trying to be set on a copy of a slice from a DataFrame\n",
      "\n",
      "See the caveats in the documentation: https://pandas.pydata.org/pandas-docs/stable/user_guide/indexing.html#returning-a-view-versus-a-copy\n",
      "  df['profarea_name'][i] = [d['profarea_name'] for d in df['specializations'][i]]\n",
      "<ipython-input-18-cab69270669f>:4: SettingWithCopyWarning: \n",
      "A value is trying to be set on a copy of a slice from a DataFrame\n",
      "\n",
      "See the caveats in the documentation: https://pandas.pydata.org/pandas-docs/stable/user_guide/indexing.html#returning-a-view-versus-a-copy\n",
      "  df['specializations'][i] = [d['name'] for d in df['specializations'][i]]\n"
     ]
    }
   ],
   "source": [
    "df['profarea_name'] = None\n",
    "for i in range(len(df)):\n",
    "    df['profarea_name'][i] = [d['profarea_name'] for d in df['specializations'][i]]\n",
    "    df['specializations'][i] = [d['name'] for d in df['specializations'][i]]\n",
    "  "
   ]
  },
  {
   "cell_type": "code",
   "execution_count": 19,
   "metadata": {},
   "outputs": [
    {
     "data": {
      "text/plain": [
       "(703, 98)"
      ]
     },
     "execution_count": 19,
     "metadata": {},
     "output_type": "execute_result"
    }
   ],
   "source": [
    "df.shape"
   ]
  },
  {
   "cell_type": "code",
   "execution_count": 20,
   "metadata": {
    "colab": {
     "base_uri": "https://localhost:8080/",
     "height": 706
    },
    "id": "Y_h74yfSjjca",
    "outputId": "6a8ab5b0-6628-4b5d-c75e-a6c9d9e7bcff"
   },
   "outputs": [
    {
     "data": {
      "text/plain": [
       "0         [Информационные технологии, интернет, телеком]\n",
       "1      [Банки, инвестиции, лизинг, Страхование, Страх...\n",
       "2      [Начало карьеры, студенты, Информационные техн...\n",
       "3      [Маркетинг, реклама, PR, Маркетинг, реклама, P...\n",
       "4      [Банки, инвестиции, лизинг, Банки, инвестиции,...\n",
       "                             ...                        \n",
       "698    [Консультирование, Консультирование, Информаци...\n",
       "699    [Банки, инвестиции, лизинг, Банки, инвестиции,...\n",
       "700     [Маркетинг, реклама, PR, Маркетинг, реклама, PR]\n",
       "701    [Продажи, Закупки, Маркетинг, реклама, PR, Мар...\n",
       "702    [Бухгалтерия, управленческий учет, финансы пре...\n",
       "Name: profarea_name, Length: 703, dtype: object"
      ]
     },
     "execution_count": 20,
     "metadata": {},
     "output_type": "execute_result"
    }
   ],
   "source": [
    "df['profarea_name']"
   ]
  },
  {
   "cell_type": "code",
   "execution_count": 21,
   "metadata": {
    "id": "2x9kaEtzjrhC"
   },
   "outputs": [
    {
     "data": {
      "text/plain": [
       "0                                             [Аналитик]\n",
       "1      [Аналитик, Андеррайтер, Начальный уровень, Мал...\n",
       "2      [Информационные технологии, Интернет, Мультиме...\n",
       "3      [Below The Line (BTL), Исследования рынка, Про...\n",
       "4      [Риски: кредитные, Риски: прочие, Риски: опера...\n",
       "                             ...                        \n",
       "698    [Реинжиниринг бизнес процессов, Управление про...\n",
       "699    [Аналитик, Риски: кредитные, Методология, Банк...\n",
       "700                       [Исследования рынка, Аналитик]\n",
       "701    [FMCG, Товары народного потребления, FMCG, Тов...\n",
       "702                 [Аудит, Финансовый анализ, Аналитик]\n",
       "Name: specializations, Length: 703, dtype: object"
      ]
     },
     "execution_count": 21,
     "metadata": {},
     "output_type": "execute_result"
    }
   ],
   "source": [
    "df['specializations']"
   ]
  },
  {
   "cell_type": "code",
   "execution_count": 26,
   "metadata": {
    "id": "YCYtXyG6j0cf"
   },
   "outputs": [
    {
     "data": {
      "text/plain": [
       "Index(['id', 'premium', 'relations', 'name', 'insider_interview',\n",
       "       'response_letter_required', 'salary', 'allow_messages', 'department',\n",
       "       'contacts', 'description', 'branded_description',\n",
       "       'vacancy_constructor_template', 'key_skills', 'accept_handicapped',\n",
       "       'accept_kids', 'archived', 'response_url', 'specializations', 'code',\n",
       "       'hidden', 'quick_responses_allowed', 'driver_license_types',\n",
       "       'accept_incomplete_resumes', 'published_at', 'created_at',\n",
       "       'negotiations_url', 'suitable_resumes_url', 'apply_alternate_url',\n",
       "       'has_test', 'test', 'alternate_url', 'working_days',\n",
       "       'working_time_intervals', 'working_time_modes', 'accept_temporary',\n",
       "       'billing_type.id', 'billing_type.name', 'area.id', 'area.name',\n",
       "       'area.url', 'type.id', 'type.name', 'address.city', 'address.street',\n",
       "       'address.building', 'address.description', 'address.lat', 'address.lng',\n",
       "       'address.raw', 'address.metro.station_name', 'address.metro.line_name',\n",
       "       'address.metro.station_id', 'address.metro.line_id',\n",
       "       'address.metro.lat', 'address.metro.lng', 'address.metro_stations',\n",
       "       'site.id', 'site.name', 'experience.id', 'experience.name',\n",
       "       'schedule.id', 'schedule.name', 'employment.id', 'employment.name',\n",
       "       'employer.id', 'employer.name', 'employer.url',\n",
       "       'employer.alternate_url', 'employer.logo_urls.original',\n",
       "       'employer.logo_urls.240', 'employer.logo_urls.90',\n",
       "       'employer.vacancies_url', 'employer.trusted', 'department.id',\n",
       "       'department.name', 'address', 'salary.from', 'salary.to',\n",
       "       'salary.currency', 'salary.gross', 'address.metro',\n",
       "       'employer.logo_urls', 'test.required',\n",
       "       'vacancy_constructor_template.id', 'vacancy_constructor_template.name',\n",
       "       'vacancy_constructor_template.top_picture.height',\n",
       "       'vacancy_constructor_template.top_picture.width',\n",
       "       'vacancy_constructor_template.top_picture.path',\n",
       "       'vacancy_constructor_template.top_picture.blurred_path',\n",
       "       'vacancy_constructor_template.bottom_picture.height',\n",
       "       'vacancy_constructor_template.bottom_picture.width',\n",
       "       'vacancy_constructor_template.bottom_picture.path',\n",
       "       'vacancy_constructor_template.bottom_picture.blurred_path',\n",
       "       'vacancy_constructor_template.bottom_picture', 'insider_interview.id',\n",
       "       'insider_interview.url', 'profarea_name'],\n",
       "      dtype='object')"
      ]
     },
     "execution_count": 26,
     "metadata": {},
     "output_type": "execute_result"
    }
   ],
   "source": [
    "df.columns"
   ]
  },
  {
   "cell_type": "code",
   "execution_count": 29,
   "metadata": {},
   "outputs": [
    {
     "data": {
      "text/plain": [
       "0"
      ]
     },
     "execution_count": 29,
     "metadata": {},
     "output_type": "execute_result"
    }
   ],
   "source": [
    "df['working_time_modes'].isna().sum()"
   ]
  },
  {
   "cell_type": "code",
   "execution_count": 31,
   "metadata": {},
   "outputs": [
    {
     "data": {
      "text/plain": [
       "Полный день         567\n",
       "Удаленная работа    113\n",
       "Гибкий график        20\n",
       "Сменный график        3\n",
       "Name: schedule.name, dtype: int64"
      ]
     },
     "execution_count": 31,
     "metadata": {},
     "output_type": "execute_result"
    }
   ],
   "source": [
    "df['schedule.name'].value_counts()"
   ]
  },
  {
   "cell_type": "code",
   "execution_count": 33,
   "metadata": {},
   "outputs": [
    {
     "data": {
      "text/plain": [
       "0"
      ]
     },
     "execution_count": 33,
     "metadata": {},
     "output_type": "execute_result"
    }
   ],
   "source": [
    "df['schedule.name'].isna().sum()"
   ]
  },
  {
   "cell_type": "code",
   "execution_count": 35,
   "metadata": {},
   "outputs": [
    {
     "data": {
      "text/plain": [
       "0"
      ]
     },
     "execution_count": 35,
     "metadata": {},
     "output_type": "execute_result"
    }
   ],
   "source": [
    "df['working_time_intervals'].isna().sum()"
   ]
  },
  {
   "cell_type": "code",
   "execution_count": 37,
   "metadata": {},
   "outputs": [
    {
     "data": {
      "text/plain": [
       "0"
      ]
     },
     "execution_count": 37,
     "metadata": {},
     "output_type": "execute_result"
    }
   ],
   "source": [
    "df['working_time_modes'].isna().sum()"
   ]
  },
  {
   "cell_type": "code",
   "execution_count": 49,
   "metadata": {},
   "outputs": [
    {
     "data": {
      "text/plain": [
       "<AxesSubplot:>"
      ]
     },
     "execution_count": 49,
     "metadata": {},
     "output_type": "execute_result"
    },
    {
     "data": {
      "image/png": "[encoded data removed]",
      "text/plain": [
       "<Figure size 432x288 with 1 Axes>"
      ]
     },
     "metadata": {
      "needs_background": "light"
     },
     "output_type": "display_data"
    }
   ],
   "source": [
    "df['salary.from'].hist(legend = 'salary.from')\n",
    "df['salary.to'].hist(alpha = 0.5, legend = 'salary.to')"
   ]
  },
  {
   "cell_type": "code",
   "execution_count": 71,
   "metadata": {},
   "outputs": [
    {
     "data": {
      "text/plain": [
       "506"
      ]
     },
     "execution_count": 71,
     "metadata": {},
     "output_type": "execute_result"
    }
   ],
   "source": [
    "df['salary.gross'].isna().sum()"
   ]
  },
  {
   "cell_type": "code",
   "execution_count": 67,
   "metadata": {},
   "outputs": [],
   "source": [
    "jun = []\n",
    "mid = []\n",
    "for i in df['name']:\n",
    "    if \"стажер\" in i or 'junior' in i or 'Junior' in i:\n",
    "        jun.append(i)\n",
    "    if 'middle' in i or 'Middle' in i:\n",
    "        mid.append(i)"
   ]
  },
  {
   "cell_type": "code",
   "execution_count": 68,
   "metadata": {},
   "outputs": [
    {
     "data": {
      "text/plain": [
       "['Junior Web Analyst / Младший Веб-Аналитик',\n",
       " 'Аналитик-стажер',\n",
       " 'Junior аналитик данных',\n",
       " 'Junior Analyst CRM / Младший аналитик CRM',\n",
       " 'Junior SQL Analyst / Младший SQL Аналитик',\n",
       " 'Junior Product Analyst / Младший продуктовый аналитик',\n",
       " 'Бизнес-аналитик (Junior)',\n",
       " 'Аналитик / junior аналитик',\n",
       " 'Бизнес-аналитик (junior)']"
      ]
     },
     "execution_count": 68,
     "metadata": {},
     "output_type": "execute_result"
    }
   ],
   "source": [
    "jun"
   ]
  },
  {
   "cell_type": "code",
   "execution_count": 69,
   "metadata": {},
   "outputs": [
    {
     "data": {
      "text/plain": [
       "['Аналитик (middle)',\n",
       " 'Продуктовый аналитик-Игровой аналитик (Product Analyst / Game Analyst, Middle)',\n",
       " 'Аналитик (pre-middle)',\n",
       " 'Middle ML-аналитик']"
      ]
     },
     "execution_count": 69,
     "metadata": {},
     "output_type": "execute_result"
    }
   ],
   "source": [
    "mid"
   ]
  },
  {
   "cell_type": "code",
   "execution_count": 63,
   "metadata": {},
   "outputs": [
    {
     "data": {
      "text/plain": [
       "<AxesSubplot:>"
      ]
     },
     "execution_count": 63,
     "metadata": {},
     "output_type": "execute_result"
    },
    {
     "data": {
      "image/png": "[encoded data removed]",
      "text/plain": [
       "<Figure size 432x288 with 1 Axes>"
      ]
     },
     "metadata": {
      "needs_background": "light"
     },
     "output_type": "display_data"
    }
   ],
   "source": [
    "df['name'].value_counts().hist()"
   ]
  },
  {
   "cell_type": "code",
   "execution_count": 64,
   "metadata": {},
   "outputs": [
    {
     "data": {
      "text/plain": [
       "Аналитик                                                                          154\n",
       "Бизнес-аналитик                                                                    77\n",
       "Системный аналитик                                                                 40\n",
       "Аналитик данных                                                                    24\n",
       "Продуктовый аналитик                                                               17\n",
       "                                                                                 ... \n",
       "Продуктовый аналитик-Игровой аналитик (Product Analyst / Game Analyst, Middle)      1\n",
       "Junior Analyst CRM / Младший аналитик CRM                                           1\n",
       "Бизнес-аналитик / Системный аналитик                                                1\n",
       "Менеджер аналитик                                                                   1\n",
       "Аналитик со знанием SQL                                                             1\n",
       "Name: name, Length: 297, dtype: int64"
      ]
     },
     "execution_count": 64,
     "metadata": {},
     "output_type": "execute_result"
    }
   ],
   "source": [
    "df['name'].value_counts()"
   ]
  },
  {
   "cell_type": "code",
   "execution_count": 72,
   "metadata": {},
   "outputs": [
    {
     "data": {
      "text/plain": [
       "0      2021-07-20T18:00:16+0300\n",
       "1      2021-07-27T12:32:42+0300\n",
       "2      2021-07-26T18:52:07+0300\n",
       "3      2021-07-26T15:44:55+0300\n",
       "4      2021-07-26T20:05:55+0300\n",
       "                 ...           \n",
       "698    2021-07-20T14:23:22+0300\n",
       "699    2021-07-23T15:44:50+0300\n",
       "700    2021-07-24T13:23:53+0300\n",
       "701    2021-07-26T14:04:38+0300\n",
       "702    2021-07-07T12:20:16+0300\n",
       "Name: created_at, Length: 703, dtype: object"
      ]
     },
     "execution_count": 72,
     "metadata": {},
     "output_type": "execute_result"
    }
   ],
   "source": [
    "df['created_at']"
   ]
  },
  {
   "cell_type": "code",
   "execution_count": 81,
   "metadata": {},
   "outputs": [],
   "source": [
    "df['created_at'] = pd.to_datetime(df['created_at'], format='%Y%m%d')"
   ]
  },
  {
   "cell_type": "code",
   "execution_count": 93,
   "metadata": {},
   "outputs": [],
   "source": [
    "df['created_at'] = df['created_at'].dt.date"
   ]
  },
  {
   "cell_type": "code",
   "execution_count": 104,
   "metadata": {},
   "outputs": [
    {
     "data": {
      "image/png": "[encoded data removed]",
      "text/plain": [
       "<Figure size 432x288 with 1 Axes>"
      ]
     },
     "metadata": {
      "needs_background": "light"
     },
     "output_type": "display_data"
    }
   ],
   "source": [
    "df['created_at'].value_counts().sort_index().plot()\n",
    "plt.xticks(rotation = 90)\n",
    "plt.show()"
   ]
  },
  {
   "cell_type": "code",
   "execution_count": 114,
   "metadata": {},
   "outputs": [
    {
     "data": {
      "text/plain": [
       "'Привет! Мы ищем аналитика на один из проектов нашей компании. Обязанности:  Взаимодействие с заказчиком. Работа с требованиями. Разработка бизнес-процессов Разработка проектной и эксплуатационной документации Постановка задач разработчикам  Требования:  Опыт работы от 1 года на должности аналитика или системного аналитика. Опыт работы постановки задач разработчикам, разработка макетов экранных форм. Опыт в подготовке эксплуатационной документации.  Условия: У нас уютный офис в самом центре города, замечательные ребята на проекте, да и в компании, в целом :) , официальное трудоустройство, достойный уровень ЗП, премии, ДМС, тренажер, корпоративное питание, внешнее обучение и интересные задачи. График работы 5/2, старт работы варьируется с 9 до 11. Наш процесс найма:- собеседование с HR по скайпу или zoom (30 минут).- очное/онлайн собеседование с РП и тимлидом (1 час) + небольшое тестовое задание. Откликайся, пиши, задавай вопросы, если они есть, так мы быстрее найдёмся :)  '"
      ]
     },
     "execution_count": 114,
     "metadata": {},
     "output_type": "execute_result"
    }
   ],
   "source": [
    "df['description'][0]"
   ]
  },
  {
   "cell_type": "code",
   "execution_count": 118,
   "metadata": {},
   "outputs": [
    {
     "data": {
      "text/plain": [
       "('Привет! Мы ищем аналитика на один из проектов нашей компании. Обязанности:  Взаимодействие с заказчиком. Работа с требованиями. Разработка бизнес-процессов Разработка проектной и эксплуатационной документации Постановка задач разработчикам  ',\n",
       " 'Требования',\n",
       " ':  Опыт работы от 1 года на должности аналитика или системного аналитика. Опыт работы постановки задач разработчикам, разработка макетов экранных форм. Опыт в подготовке эксплуатационной документации.  Условия: У нас уютный офис в самом центре города, замечательные ребята на проекте, да и в компании, в целом :) , официальное трудоустройство, достойный уровень ЗП, премии, ДМС, тренажер, корпоративное питание, внешнее обучение и интересные задачи. График работы 5/2, старт работы варьируется с 9 до 11. Наш процесс найма:- собеседование с HR по скайпу или zoom (30 минут).- очное/онлайн собеседование с РП и тимлидом (1 час) + небольшое тестовое задание. Откликайся, пиши, задавай вопросы, если они есть, так мы быстрее найдёмся :)  ')"
      ]
     },
     "execution_count": 118,
     "metadata": {},
     "output_type": "execute_result"
    }
   ],
   "source": [
    "df['description'][0].partition(\"Требования\")"
   ]
  },
  {
   "cell_type": "code",
   "execution_count": 122,
   "metadata": {},
   "outputs": [
    {
     "data": {
      "text/plain": [
       "['Привет! Мы ищем аналитика на один из проектов нашей компании. Обязанности:  Взаимодействие с заказчиком. Работа с требованиями. Разработка бизнес-процессов Разработка проектной и эксплуатационной документации Постановка задач разработчикам  Требования:  Опыт работы от 1 года на должности аналитика или системного аналитика. Опыт работы постановки задач разработчикам, разработка макетов экранных форм. Опыт в подготовке эксплуатационной документации.  ',\n",
       " ': У нас уютный офис в самом центре города, замечательные ребята на проекте, да и в компании, в целом :) , официальное трудоустройство, достойный уровень ЗП, премии, ДМС, тренажер, корпоративное питание, внешнее обучение и интересные задачи. График работы 5/2, старт работы варьируется с 9 до 11. Наш процесс найма:- собеседование с HR по скайпу или zoom (30 минут).- очное/онлайн собеседование с РП и тимлидом (1 час) + небольшое тестовое задание. Откликайся, пиши, задавай вопросы, если они есть, так мы быстрее найдёмся :)  ']"
      ]
     },
     "execution_count": 122,
     "metadata": {},
     "output_type": "execute_result"
    }
   ],
   "source": [
    "df['description'][0].split('Требования'and'Условия')"
   ]
  },
  {
   "cell_type": "code",
   "execution_count": 133,
   "metadata": {},
   "outputs": [
    {
     "data": {
      "text/plain": [
       "[':  Опыт работы от 1 года на должности аналитика или системного аналитика. Опыт работы постановки задач разработчикам, разработка макетов экранных форм. Опыт в подготовке эксплуатационной документации.  ']"
      ]
     },
     "execution_count": 133,
     "metadata": {},
     "output_type": "execute_result"
    }
   ],
   "source": [
    "import re\n",
    "re.findall(r'Требования(.*)Условия', df['description'][0])"
   ]
  },
  {
   "cell_type": "code",
   "execution_count": 135,
   "metadata": {},
   "outputs": [
    {
     "data": {
      "text/plain": [
       "'Примени свои знания и прокачай навыки для создания клиентских проектов для большого бренда.  «Билайн» сейчас – динамичная компания изменений. Мы строим цифровую data-driven компанию, и ты можешь нам в этом помочь. В РОЛИ СТАЖЕРА ТЫ НАУЧИШЬСЯ:  Координировать проекты подразделения (\"снятие\" статусов, сбор и консолидация информации и пр Подготовке драфтов презентаций по активностям Работе с большим массивом данных с целью аналитики    МЫ ОЖИДАЕМ ОТ ТЕБЯ:  Уверенный пользователь в Excel(ВПР, ИНДЕКС, МАКС, ЕСЛИ, И, ИЛИ, СУММЕСЛИ, СРЗНАЧ и т.д.) MS PowerPoint Знание SQL, Access будет преимуществом    ЧТО ЖДЕТ ТЕБЯ В БИЛАЙН?  Оплачиваемая стажировка в соответствии с количеством рабочих часов. Свобода - Beefree - гибкий рабочий график от 35 до 40 часов. Работай везде, где есть интернет. Стажировка длится год - ты успеешь глубоко изучить свое направление и принять участие в серьезных проектах. Комфортная рабочая атмосфера: дружелюбные коллеги и мотивирующие руководители. Авторские онлайн-курсы Билайн Университета. Доступ к корпоративной библиотеке Alpina Digital, МиФ и обучение на платформе Coursera Участие в проекте Бизнес-инкубатор Билайн, где ты сможешь реализовать свои идеи по созданию новых продуктов или улучшению бизнес-процессов компании  Приходи к нам, меняйся вместе с нами!   В Билайн мы развиваем и поддерживаем здоровую и безопасную рабочую среду. Каждый сотрудник соблюдает Кодекс поведения, внутренние правила компании и придерживается принципов деловой этики. Мы поступаем честно и этично как по отношению друг к другу, так и к нашим внешним партнерам.    '"
      ]
     },
     "execution_count": 135,
     "metadata": {},
     "output_type": "execute_result"
    }
   ],
   "source": [
    "df['description'][2]"
   ]
  },
  {
   "cell_type": "code",
   "execution_count": 140,
   "metadata": {},
   "outputs": [],
   "source": [
    "with open(\"vacancies/46527984.json\", \"r\") as read_file:\n",
    "    data = json.load(read_file)"
   ]
  },
  {
   "cell_type": "code",
   "execution_count": 149,
   "metadata": {},
   "outputs": [
    {
     "data": {
      "text/plain": [
       "От 1 года до 3 лет    423\n",
       "От 3 до 6 лет         183\n",
       "Нет опыта              91\n",
       "Более 6 лет             6\n",
       "Name: experience.name, dtype: int64"
      ]
     },
     "execution_count": 149,
     "metadata": {},
     "output_type": "execute_result"
    }
   ],
   "source": [
    "df['experience.name'].value_counts()"
   ]
  },
  {
   "cell_type": "markdown",
   "metadata": {},
   "source": [
    "df.columns нужные: name\n",
    "\n",
    "df.columns НЕ нужные:\n",
    "relations (списки пустые)\n",
    "insider_interview\n",
    "df['response_letter_required'].sum() = 10"
   ]
  },
  {
   "cell_type": "code",
   "execution_count": 150,
   "metadata": {},
   "outputs": [
    {
     "data": {
      "text/plain": [
       "Index(['id', 'premium', 'relations', 'name', 'insider_interview',\n",
       "       'response_letter_required', 'salary', 'allow_messages', 'department',\n",
       "       'contacts', 'description', 'branded_description',\n",
       "       'vacancy_constructor_template', 'key_skills', 'accept_handicapped',\n",
       "       'accept_kids', 'archived', 'response_url', 'specializations', 'code',\n",
       "       'hidden', 'quick_responses_allowed', 'driver_license_types',\n",
       "       'accept_incomplete_resumes', 'published_at', 'created_at',\n",
       "       'negotiations_url', 'suitable_resumes_url', 'apply_alternate_url',\n",
       "       'has_test', 'test', 'alternate_url', 'working_days',\n",
       "       'working_time_intervals', 'working_time_modes', 'accept_temporary',\n",
       "       'billing_type.id', 'billing_type.name', 'area.id', 'area.name',\n",
       "       'area.url', 'type.id', 'type.name', 'address.city', 'address.street',\n",
       "       'address.building', 'address.description', 'address.lat', 'address.lng',\n",
       "       'address.raw', 'address.metro.station_name', 'address.metro.line_name',\n",
       "       'address.metro.station_id', 'address.metro.line_id',\n",
       "       'address.metro.lat', 'address.metro.lng', 'address.metro_stations',\n",
       "       'site.id', 'site.name', 'experience.id', 'experience.name',\n",
       "       'schedule.id', 'schedule.name', 'employment.id', 'employment.name',\n",
       "       'employer.id', 'employer.name', 'employer.url',\n",
       "       'employer.alternate_url', 'employer.logo_urls.original',\n",
       "       'employer.logo_urls.240', 'employer.logo_urls.90',\n",
       "       'employer.vacancies_url', 'employer.trusted', 'department.id',\n",
       "       'department.name', 'address', 'salary.from', 'salary.to',\n",
       "       'salary.currency', 'salary.gross', 'address.metro',\n",
       "       'employer.logo_urls', 'test.required',\n",
       "       'vacancy_constructor_template.id', 'vacancy_constructor_template.name',\n",
       "       'vacancy_constructor_template.top_picture.height',\n",
       "       'vacancy_constructor_template.top_picture.width',\n",
       "       'vacancy_constructor_template.top_picture.path',\n",
       "       'vacancy_constructor_template.top_picture.blurred_path',\n",
       "       'vacancy_constructor_template.bottom_picture.height',\n",
       "       'vacancy_constructor_template.bottom_picture.width',\n",
       "       'vacancy_constructor_template.bottom_picture.path',\n",
       "       'vacancy_constructor_template.bottom_picture.blurred_path',\n",
       "       'vacancy_constructor_template.bottom_picture', 'insider_interview.id',\n",
       "       'insider_interview.url', 'profarea_name'],\n",
       "      dtype='object')"
      ]
     },
     "execution_count": 150,
     "metadata": {},
     "output_type": "execute_result"
    }
   ],
   "source": [
    "df.columns"
   ]
  },
  {
   "cell_type": "code",
   "execution_count": 168,
   "metadata": {},
   "outputs": [
    {
     "name": "stdout",
     "output_type": "stream",
     "text": [
      "premium False    697\n",
      "True       6\n",
      "Name: premium, dtype: int64\n",
      "relations []    703\n",
      "Name: relations, dtype: int64\n",
      "name Аналитик                                                                          154\n",
      "Бизнес-аналитик                                                                    77\n",
      "Системный аналитик                                                                 40\n",
      "Аналитик данных                                                                    24\n",
      "Продуктовый аналитик                                                               17\n",
      "                                                                                 ... \n",
      "Продуктовый аналитик-Игровой аналитик (Product Analyst / Game Analyst, Middle)      1\n",
      "Junior Analyst CRM / Младший аналитик CRM                                           1\n",
      "Бизнес-аналитик / Системный аналитик                                                1\n",
      "Менеджер аналитик                                                                   1\n",
      "Аналитик со знанием SQL                                                             1\n",
      "Name: name, Length: 297, dtype: int64\n"
     ]
    }
   ],
   "source": [
    "features = pd.DataFrame()\n",
    "features.append\n",
    "for i in df.columns[1:4]:\n",
    "    print(i, pd.Series(df[i].value_counts()))"
   ]
  },
  {
   "cell_type": "code",
   "execution_count": 171,
   "metadata": {},
   "outputs": [],
   "source": [
    "with open(\"vacancies/46400329.json\", \"r\") as read_file:\n",
    "    data = json.load(read_file)"
   ]
  },
  {
   "cell_type": "code",
   "execution_count": 173,
   "metadata": {},
   "outputs": [
    {
     "ename": "KeyError",
     "evalue": "'item'",
     "output_type": "error",
     "traceback": [
      "\u001b[0;31m---------------------------------------------------------------------------\u001b[0m",
      "\u001b[0;31mKeyError\u001b[0m                                  Traceback (most recent call last)",
      "\u001b[0;32m<ipython-input-173-1fe41b31f8b6>\u001b[0m in \u001b[0;36m<module>\u001b[0;34m\u001b[0m\n\u001b[0;32m----> 1\u001b[0;31m \u001b[0mdata\u001b[0m\u001b[0;34m[\u001b[0m\u001b[0;34m'item'\u001b[0m\u001b[0;34m]\u001b[0m\u001b[0;34m\u001b[0m\u001b[0;34m\u001b[0m\u001b[0m\n\u001b[0m",
      "\u001b[0;31mKeyError\u001b[0m: 'item'"
     ]
    }
   ],
   "source": [
    "data['item']"
   ]
  },
  {
   "cell_type": "code",
   "execution_count": null,
   "metadata": {},
   "outputs": [],
   "source": []
  }
 ],
 "metadata": {
  "colab": {
   "collapsed_sections": [],
   "name": "Untitled6.ipynb",
   "provenance": []
  },
  "kernelspec": {
   "display_name": "Python 3",
   "language": "python",
   "name": "python3"
  },
  "language_info": {
   "codemirror_mode": {
    "name": "ipython",
    "version": 3
   },
   "file_extension": ".py",
   "mimetype": "text/x-python",
   "name": "python",
   "nbconvert_exporter": "python",
   "pygments_lexer": "ipython3",
   "version": "3.8.5"
  }
 },
 "nbformat": 4,
 "nbformat_minor": 1
}
